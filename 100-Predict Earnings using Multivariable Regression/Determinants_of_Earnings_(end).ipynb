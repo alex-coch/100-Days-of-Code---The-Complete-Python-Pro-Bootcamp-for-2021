{
  "nbformat": 4,
  "nbformat_minor": 0,
  "metadata": {
    "colab": {
      "name": "Determinants_of_Earnings_(start).ipynb",
      "provenance": []
    },
    "kernelspec": {
      "name": "python3",
      "display_name": "Python 3"
    }
  },
  "cells": [
    {
      "cell_type": "markdown",
      "metadata": {
        "id": "BHg0HZz-intQ"
      },
      "source": [
        "# Introduction"
      ]
    },
    {
      "cell_type": "markdown",
      "metadata": {
        "id": "V2RQkgAbiqJv"
      },
      "source": [
        "The National Longitudinal Survey of Youth 1997-2011 dataset is one of the most important databases available to social scientists working with US data. \n",
        "\n",
        "It allows scientists to look at the determinants of earnings as well as educational attainment and has incredible relevance for government policy. It can also shed light on politically sensitive issues like how different educational attainment and salaries are for people of different ethnicity, sex, and other factors. When we have a better understanding how these variables affect education and earnings we can also formulate more suitable government policies. \n",
        "\n",
        "<center><img src=https://i.imgur.com/cxBpQ3I.png height=400></center>\n"
      ]
    },
    {
      "cell_type": "markdown",
      "metadata": {
        "id": "YjCPWWUSirY_"
      },
      "source": [
        "### Upgrade Plotly"
      ]
    },
    {
      "cell_type": "code",
      "metadata": {
        "id": "v74l3QCGirIX",
        "colab": {
          "base_uri": "https://localhost:8080/"
        },
        "outputId": "1e0b0760-26ce-436c-d529-68d55115fc62"
      },
      "source": [
        "%pip install --upgrade plotly"
      ],
      "execution_count": 1,
      "outputs": [
        {
          "output_type": "stream",
          "name": "stdout",
          "text": [
            "Requirement already satisfied: plotly in /usr/local/lib/python3.7/dist-packages (4.4.1)\n",
            "Collecting plotly\n",
            "  Downloading plotly-5.5.0-py2.py3-none-any.whl (26.5 MB)\n",
            "\u001b[K     |████████████████████████████████| 26.5 MB 1.6 MB/s \n",
            "\u001b[?25hCollecting tenacity>=6.2.0\n",
            "  Downloading tenacity-8.0.1-py3-none-any.whl (24 kB)\n",
            "Requirement already satisfied: six in /usr/local/lib/python3.7/dist-packages (from plotly) (1.15.0)\n",
            "Installing collected packages: tenacity, plotly\n",
            "  Attempting uninstall: plotly\n",
            "    Found existing installation: plotly 4.4.1\n",
            "    Uninstalling plotly-4.4.1:\n",
            "      Successfully uninstalled plotly-4.4.1\n",
            "Successfully installed plotly-5.5.0 tenacity-8.0.1\n"
          ]
        }
      ]
    },
    {
      "cell_type": "markdown",
      "metadata": {
        "id": "br_QkHBMjC1Q"
      },
      "source": [
        "###  Import Statements\n"
      ]
    },
    {
      "cell_type": "code",
      "metadata": {
        "id": "gSKZx-kwie_u",
        "colab": {
          "base_uri": "https://localhost:8080/"
        },
        "outputId": "f95b6df5-2e5c-40a2-dceb-ae0e035ae7a3"
      },
      "source": [
        "import pandas as pd\n",
        "import numpy as np\n",
        "\n",
        "import seaborn as sns\n",
        "import plotly.express as px\n",
        "import matplotlib.pyplot as plt\n",
        "\n",
        "from sklearn.linear_model import LinearRegression\n",
        "from sklearn.model_selection import train_test_split\n",
        "\n",
        "from google.colab import drive\n",
        "drive.mount('/content/gdrive')"
      ],
      "execution_count": 2,
      "outputs": [
        {
          "output_type": "stream",
          "name": "stdout",
          "text": [
            "Mounted at /content/gdrive\n"
          ]
        }
      ]
    },
    {
      "cell_type": "markdown",
      "metadata": {
        "id": "9pgsrth_izCn"
      },
      "source": [
        "## Notebook Presentation"
      ]
    },
    {
      "cell_type": "code",
      "metadata": {
        "id": "Cgwu-WbBizqY"
      },
      "source": [
        "pd.options.display.float_format = '{:,.2f}'.format"
      ],
      "execution_count": 3,
      "outputs": []
    },
    {
      "cell_type": "markdown",
      "metadata": {
        "id": "E5bhysOOjLRr"
      },
      "source": [
        "# Load the Data\n",
        "\n"
      ]
    },
    {
      "cell_type": "code",
      "metadata": {
        "id": "6VngeTQwjM-X"
      },
      "source": [
        "df_data = pd.read_csv('/content/gdrive/MyDrive/100data/NLSY97_subset.csv')"
      ],
      "execution_count": 4,
      "outputs": []
    },
    {
      "cell_type": "markdown",
      "metadata": {
        "id": "_ZjIBJ5jjrj0"
      },
      "source": [
        "### Understand the Dataset\n",
        "\n",
        "Have a look at the file entitled `NLSY97_Variable_Names_and_Descriptions.csv`. \n",
        "\n",
        "---------------------------\n",
        "\n",
        "    :Key Variables:  \n",
        "      1. S           Years of schooling (highest grade completed as of 2011)\n",
        "      2. EXP         Total out-of-school work experience (years) as of the 2011 interview.\n",
        "      3. EARNINGS    Current hourly earnings in $ reported at the 2011 interview"
      ]
    },
    {
      "cell_type": "markdown",
      "metadata": {
        "id": "8MkSxkjVnIfW"
      },
      "source": [
        "# Preliminary Data Exploration 🔎\n",
        "\n",
        "**Challenge**\n",
        "\n",
        "* What is the shape of `df_data`? \n",
        "* How many rows and columns does it have?\n",
        "* What are the column names?\n",
        "* Are there any NaN values or duplicates?"
      ]
    },
    {
      "cell_type": "code",
      "metadata": {
        "id": "V_cQguBbjwZv",
        "colab": {
          "base_uri": "https://localhost:8080/"
        },
        "outputId": "95c42586-f65a-45fb-f0ce-ff624d7356cb"
      },
      "source": [
        "df_data.shape"
      ],
      "execution_count": null,
      "outputs": [
        {
          "output_type": "execute_result",
          "data": {
            "text/plain": [
              "(2000, 96)"
            ]
          },
          "metadata": {},
          "execution_count": 8
        }
      ]
    },
    {
      "cell_type": "code",
      "source": [
        "df_data.columns"
      ],
      "metadata": {
        "colab": {
          "base_uri": "https://localhost:8080/"
        },
        "id": "XQ7z_th4FRHZ",
        "outputId": "132c9c15-1c99-410e-eda4-a2c50c750417"
      },
      "execution_count": null,
      "outputs": [
        {
          "output_type": "execute_result",
          "data": {
            "text/plain": [
              "Index(['ID', 'EARNINGS', 'S', 'EXP', 'FEMALE', 'MALE', 'BYEAR', 'AGE',\n",
              "       'AGEMBTH', 'HHINC97', 'POVRAT97', 'HHBMBF', 'HHBMOF', 'HHOMBF',\n",
              "       'HHBMONLY', 'HHBFONLY', 'HHOTHER', 'MSA97NO', 'MSA97NCC', 'MSA97CC',\n",
              "       'MSA97NK', 'ETHBLACK', 'ETHHISP', 'ETHWHITE', 'EDUCPROF', 'EDUCPHD',\n",
              "       'EDUCMAST', 'EDUCBA', 'EDUCAA', 'EDUCHSD', 'EDUCGED', 'EDUCDO',\n",
              "       'PRMONM', 'PRMONF', 'PRMSTYUN', 'PRMSTYPE', 'PRMSTYAN', 'PRMSTYAE',\n",
              "       'PRFSTYUN', 'PRFSTYPE', 'PRFSTYAN', 'PRFSTYAE', 'SINGLE', 'MARRIED',\n",
              "       'COHABIT', 'OTHSING', 'FAITHN', 'FAITHP', 'FAITHC', 'FAITHJ', 'FAITHO',\n",
              "       'FAITHM', 'ASVABAR', 'ASVABWK', 'ASVABPC', 'ASVABMK', 'ASVABNO',\n",
              "       'ASVABCS', 'ASVABC', 'ASVABC4', 'VERBAL', 'ASVABMV', 'HEIGHT',\n",
              "       'WEIGHT04', 'WEIGHT11', 'SF', 'SM', 'SFR', 'SMR', 'SIBLINGS', 'REG97NE',\n",
              "       'REG97NC', 'REG97S', 'REG97W', 'RS97RURL', 'RS97URBN', 'RS97UNKN',\n",
              "       'JOBS', 'HOURS', 'TENURE', 'CATGOV', 'CATPRI', 'CATNPO', 'CATMIS',\n",
              "       'CATSE', 'COLLBARG', 'URBAN', 'REGNE', 'REGNC', 'REGW', 'REGS',\n",
              "       'MSA11NO', 'MSA11NCC', 'MSA11CC', 'MSA11NK', 'MSA11NIC'],\n",
              "      dtype='object')"
            ]
          },
          "metadata": {},
          "execution_count": 9
        }
      ]
    },
    {
      "cell_type": "code",
      "source": [
        "df_data.isna().values.any()"
      ],
      "metadata": {
        "colab": {
          "base_uri": "https://localhost:8080/"
        },
        "id": "nSgOBtyFFUha",
        "outputId": "f14388a4-d481-4b05-82f8-d3e9b834e7e3"
      },
      "execution_count": null,
      "outputs": [
        {
          "output_type": "execute_result",
          "data": {
            "text/plain": [
              "True"
            ]
          },
          "metadata": {},
          "execution_count": 4
        }
      ]
    },
    {
      "cell_type": "code",
      "source": [
        "df_data.duplicated().values.any()"
      ],
      "metadata": {
        "colab": {
          "base_uri": "https://localhost:8080/"
        },
        "id": "lJrTyEfQF1U1",
        "outputId": "d557eb5d-2d3f-41d9-c816-0e2d92ceac47"
      },
      "execution_count": null,
      "outputs": [
        {
          "output_type": "execute_result",
          "data": {
            "text/plain": [
              "True"
            ]
          },
          "metadata": {},
          "execution_count": 5
        }
      ]
    },
    {
      "cell_type": "markdown",
      "metadata": {
        "id": "4itxqgP6nQj3"
      },
      "source": [
        "## Data Cleaning - Check for Missing Values and Duplicates\n",
        "\n",
        "Find and remove any duplicate rows."
      ]
    },
    {
      "cell_type": "code",
      "metadata": {
        "id": "J3DHEFXWnS2N",
        "colab": {
          "base_uri": "https://localhost:8080/"
        },
        "outputId": "21f9e1da-12cf-4bab-cee1-fa0f79082ebc"
      },
      "source": [
        "df_data.dropna(inplace=True)\n",
        "df_data.isna().values.any()"
      ],
      "execution_count": 5,
      "outputs": [
        {
          "output_type": "execute_result",
          "data": {
            "text/plain": [
              "False"
            ]
          },
          "metadata": {},
          "execution_count": 5
        }
      ]
    },
    {
      "cell_type": "code",
      "source": [
        "df_data.drop_duplicates(inplace=True)\n",
        "df_data.duplicated().values.any()"
      ],
      "metadata": {
        "colab": {
          "base_uri": "https://localhost:8080/"
        },
        "id": "DFZRb7EIeKuo",
        "outputId": "14032418-eaac-4163-ed62-ccd22cf71804"
      },
      "execution_count": 6,
      "outputs": [
        {
          "output_type": "execute_result",
          "data": {
            "text/plain": [
              "False"
            ]
          },
          "metadata": {},
          "execution_count": 6
        }
      ]
    },
    {
      "cell_type": "markdown",
      "metadata": {
        "id": "gGmBBPxZnVKC"
      },
      "source": [
        "## Descriptive Statistics"
      ]
    },
    {
      "cell_type": "code",
      "metadata": {
        "id": "I5VP2BMVnVrt",
        "colab": {
          "base_uri": "https://localhost:8080/",
          "height": 394
        },
        "outputId": "fb484adf-498d-4ecd-956f-6359351a5dda"
      },
      "source": [
        "df_data.describe()"
      ],
      "execution_count": null,
      "outputs": [
        {
          "output_type": "execute_result",
          "data": {
            "text/html": [
              "\n",
              "  <div id=\"df-7c01a5ef-bb44-4326-83f4-3ae4a109d661\">\n",
              "    <div class=\"colab-df-container\">\n",
              "      <div>\n",
              "<style scoped>\n",
              "    .dataframe tbody tr th:only-of-type {\n",
              "        vertical-align: middle;\n",
              "    }\n",
              "\n",
              "    .dataframe tbody tr th {\n",
              "        vertical-align: top;\n",
              "    }\n",
              "\n",
              "    .dataframe thead th {\n",
              "        text-align: right;\n",
              "    }\n",
              "</style>\n",
              "<table border=\"1\" class=\"dataframe\">\n",
              "  <thead>\n",
              "    <tr style=\"text-align: right;\">\n",
              "      <th></th>\n",
              "      <th>ID</th>\n",
              "      <th>EARNINGS</th>\n",
              "      <th>S</th>\n",
              "      <th>EXP</th>\n",
              "      <th>FEMALE</th>\n",
              "      <th>MALE</th>\n",
              "      <th>BYEAR</th>\n",
              "      <th>AGE</th>\n",
              "      <th>AGEMBTH</th>\n",
              "      <th>HHINC97</th>\n",
              "      <th>POVRAT97</th>\n",
              "      <th>HHBMBF</th>\n",
              "      <th>HHBMOF</th>\n",
              "      <th>HHOMBF</th>\n",
              "      <th>HHBMONLY</th>\n",
              "      <th>HHBFONLY</th>\n",
              "      <th>HHOTHER</th>\n",
              "      <th>MSA97NO</th>\n",
              "      <th>MSA97NCC</th>\n",
              "      <th>MSA97CC</th>\n",
              "      <th>MSA97NK</th>\n",
              "      <th>ETHBLACK</th>\n",
              "      <th>ETHHISP</th>\n",
              "      <th>ETHWHITE</th>\n",
              "      <th>EDUCPROF</th>\n",
              "      <th>EDUCPHD</th>\n",
              "      <th>EDUCMAST</th>\n",
              "      <th>EDUCBA</th>\n",
              "      <th>EDUCAA</th>\n",
              "      <th>EDUCHSD</th>\n",
              "      <th>EDUCGED</th>\n",
              "      <th>EDUCDO</th>\n",
              "      <th>PRMONM</th>\n",
              "      <th>PRMONF</th>\n",
              "      <th>PRMSTYUN</th>\n",
              "      <th>PRMSTYPE</th>\n",
              "      <th>PRMSTYAN</th>\n",
              "      <th>PRMSTYAE</th>\n",
              "      <th>PRFSTYUN</th>\n",
              "      <th>PRFSTYPE</th>\n",
              "      <th>...</th>\n",
              "      <th>ASVABNO</th>\n",
              "      <th>ASVABCS</th>\n",
              "      <th>ASVABC</th>\n",
              "      <th>ASVABC4</th>\n",
              "      <th>VERBAL</th>\n",
              "      <th>ASVABMV</th>\n",
              "      <th>HEIGHT</th>\n",
              "      <th>WEIGHT04</th>\n",
              "      <th>WEIGHT11</th>\n",
              "      <th>SF</th>\n",
              "      <th>SM</th>\n",
              "      <th>SFR</th>\n",
              "      <th>SMR</th>\n",
              "      <th>SIBLINGS</th>\n",
              "      <th>REG97NE</th>\n",
              "      <th>REG97NC</th>\n",
              "      <th>REG97S</th>\n",
              "      <th>REG97W</th>\n",
              "      <th>RS97RURL</th>\n",
              "      <th>RS97URBN</th>\n",
              "      <th>RS97UNKN</th>\n",
              "      <th>JOBS</th>\n",
              "      <th>HOURS</th>\n",
              "      <th>TENURE</th>\n",
              "      <th>CATGOV</th>\n",
              "      <th>CATPRI</th>\n",
              "      <th>CATNPO</th>\n",
              "      <th>CATMIS</th>\n",
              "      <th>CATSE</th>\n",
              "      <th>COLLBARG</th>\n",
              "      <th>URBAN</th>\n",
              "      <th>REGNE</th>\n",
              "      <th>REGNC</th>\n",
              "      <th>REGW</th>\n",
              "      <th>REGS</th>\n",
              "      <th>MSA11NO</th>\n",
              "      <th>MSA11NCC</th>\n",
              "      <th>MSA11CC</th>\n",
              "      <th>MSA11NK</th>\n",
              "      <th>MSA11NIC</th>\n",
              "    </tr>\n",
              "  </thead>\n",
              "  <tbody>\n",
              "    <tr>\n",
              "      <th>count</th>\n",
              "      <td>492.00</td>\n",
              "      <td>492.00</td>\n",
              "      <td>492.00</td>\n",
              "      <td>492.00</td>\n",
              "      <td>492.00</td>\n",
              "      <td>492.00</td>\n",
              "      <td>492.00</td>\n",
              "      <td>492.00</td>\n",
              "      <td>492.00</td>\n",
              "      <td>492.00</td>\n",
              "      <td>492.00</td>\n",
              "      <td>492.00</td>\n",
              "      <td>492.00</td>\n",
              "      <td>492.00</td>\n",
              "      <td>492.00</td>\n",
              "      <td>492.00</td>\n",
              "      <td>492.00</td>\n",
              "      <td>492.00</td>\n",
              "      <td>492.00</td>\n",
              "      <td>492.00</td>\n",
              "      <td>492.00</td>\n",
              "      <td>492.00</td>\n",
              "      <td>492.00</td>\n",
              "      <td>492.00</td>\n",
              "      <td>492.00</td>\n",
              "      <td>492.00</td>\n",
              "      <td>492.00</td>\n",
              "      <td>492.00</td>\n",
              "      <td>492.00</td>\n",
              "      <td>492.00</td>\n",
              "      <td>492.00</td>\n",
              "      <td>492.00</td>\n",
              "      <td>492.00</td>\n",
              "      <td>492.00</td>\n",
              "      <td>492.00</td>\n",
              "      <td>492.00</td>\n",
              "      <td>492.00</td>\n",
              "      <td>492.00</td>\n",
              "      <td>492.00</td>\n",
              "      <td>492.00</td>\n",
              "      <td>...</td>\n",
              "      <td>492.00</td>\n",
              "      <td>492.00</td>\n",
              "      <td>492.00</td>\n",
              "      <td>492.00</td>\n",
              "      <td>492.00</td>\n",
              "      <td>492.00</td>\n",
              "      <td>492.00</td>\n",
              "      <td>492.00</td>\n",
              "      <td>492.00</td>\n",
              "      <td>492.00</td>\n",
              "      <td>492.00</td>\n",
              "      <td>492.00</td>\n",
              "      <td>492.00</td>\n",
              "      <td>492.00</td>\n",
              "      <td>492.00</td>\n",
              "      <td>492.00</td>\n",
              "      <td>492.00</td>\n",
              "      <td>492.00</td>\n",
              "      <td>492.00</td>\n",
              "      <td>492.00</td>\n",
              "      <td>492.00</td>\n",
              "      <td>492.00</td>\n",
              "      <td>492.00</td>\n",
              "      <td>492.00</td>\n",
              "      <td>492.00</td>\n",
              "      <td>492.00</td>\n",
              "      <td>492.00</td>\n",
              "      <td>492.00</td>\n",
              "      <td>492.00</td>\n",
              "      <td>492.00</td>\n",
              "      <td>492.00</td>\n",
              "      <td>492.00</td>\n",
              "      <td>492.00</td>\n",
              "      <td>492.00</td>\n",
              "      <td>492.00</td>\n",
              "      <td>492.00</td>\n",
              "      <td>492.00</td>\n",
              "      <td>492.00</td>\n",
              "      <td>492.00</td>\n",
              "      <td>492.00</td>\n",
              "    </tr>\n",
              "    <tr>\n",
              "      <th>mean</th>\n",
              "      <td>3,530.57</td>\n",
              "      <td>19.13</td>\n",
              "      <td>14.89</td>\n",
              "      <td>5.92</td>\n",
              "      <td>0.49</td>\n",
              "      <td>0.51</td>\n",
              "      <td>1,982.98</td>\n",
              "      <td>28.02</td>\n",
              "      <td>26.74</td>\n",
              "      <td>66,732.78</td>\n",
              "      <td>403.47</td>\n",
              "      <td>0.89</td>\n",
              "      <td>0.09</td>\n",
              "      <td>0.02</td>\n",
              "      <td>0.00</td>\n",
              "      <td>0.00</td>\n",
              "      <td>0.00</td>\n",
              "      <td>0.21</td>\n",
              "      <td>0.55</td>\n",
              "      <td>0.23</td>\n",
              "      <td>0.00</td>\n",
              "      <td>0.07</td>\n",
              "      <td>0.10</td>\n",
              "      <td>0.83</td>\n",
              "      <td>0.02</td>\n",
              "      <td>0.00</td>\n",
              "      <td>0.09</td>\n",
              "      <td>0.36</td>\n",
              "      <td>0.08</td>\n",
              "      <td>0.37</td>\n",
              "      <td>0.06</td>\n",
              "      <td>0.03</td>\n",
              "      <td>10.05</td>\n",
              "      <td>7.56</td>\n",
              "      <td>0.14</td>\n",
              "      <td>0.38</td>\n",
              "      <td>0.14</td>\n",
              "      <td>0.34</td>\n",
              "      <td>0.15</td>\n",
              "      <td>0.33</td>\n",
              "      <td>...</td>\n",
              "      <td>0.17</td>\n",
              "      <td>0.24</td>\n",
              "      <td>0.32</td>\n",
              "      <td>0.32</td>\n",
              "      <td>0.28</td>\n",
              "      <td>60,033.84</td>\n",
              "      <td>68.03</td>\n",
              "      <td>164.29</td>\n",
              "      <td>177.98</td>\n",
              "      <td>13.71</td>\n",
              "      <td>13.59</td>\n",
              "      <td>13.84</td>\n",
              "      <td>13.57</td>\n",
              "      <td>1.96</td>\n",
              "      <td>0.15</td>\n",
              "      <td>0.36</td>\n",
              "      <td>0.29</td>\n",
              "      <td>0.19</td>\n",
              "      <td>0.32</td>\n",
              "      <td>0.68</td>\n",
              "      <td>0.00</td>\n",
              "      <td>5.32</td>\n",
              "      <td>39.87</td>\n",
              "      <td>3.37</td>\n",
              "      <td>0.13</td>\n",
              "      <td>0.74</td>\n",
              "      <td>0.08</td>\n",
              "      <td>0.05</td>\n",
              "      <td>0.06</td>\n",
              "      <td>0.12</td>\n",
              "      <td>0.75</td>\n",
              "      <td>0.13</td>\n",
              "      <td>0.31</td>\n",
              "      <td>0.35</td>\n",
              "      <td>0.21</td>\n",
              "      <td>0.05</td>\n",
              "      <td>0.54</td>\n",
              "      <td>0.41</td>\n",
              "      <td>0.00</td>\n",
              "      <td>0.00</td>\n",
              "    </tr>\n",
              "    <tr>\n",
              "      <th>std</th>\n",
              "      <td>1,948.08</td>\n",
              "      <td>11.54</td>\n",
              "      <td>2.69</td>\n",
              "      <td>2.51</td>\n",
              "      <td>0.50</td>\n",
              "      <td>0.50</td>\n",
              "      <td>0.82</td>\n",
              "      <td>0.82</td>\n",
              "      <td>4.71</td>\n",
              "      <td>44,951.87</td>\n",
              "      <td>306.14</td>\n",
              "      <td>0.32</td>\n",
              "      <td>0.29</td>\n",
              "      <td>0.14</td>\n",
              "      <td>0.00</td>\n",
              "      <td>0.00</td>\n",
              "      <td>0.05</td>\n",
              "      <td>0.41</td>\n",
              "      <td>0.50</td>\n",
              "      <td>0.42</td>\n",
              "      <td>0.00</td>\n",
              "      <td>0.26</td>\n",
              "      <td>0.29</td>\n",
              "      <td>0.37</td>\n",
              "      <td>0.13</td>\n",
              "      <td>0.05</td>\n",
              "      <td>0.29</td>\n",
              "      <td>0.48</td>\n",
              "      <td>0.27</td>\n",
              "      <td>0.48</td>\n",
              "      <td>0.23</td>\n",
              "      <td>0.17</td>\n",
              "      <td>2.95</td>\n",
              "      <td>3.61</td>\n",
              "      <td>0.35</td>\n",
              "      <td>0.49</td>\n",
              "      <td>0.35</td>\n",
              "      <td>0.47</td>\n",
              "      <td>0.36</td>\n",
              "      <td>0.47</td>\n",
              "      <td>...</td>\n",
              "      <td>0.93</td>\n",
              "      <td>0.90</td>\n",
              "      <td>0.87</td>\n",
              "      <td>0.86</td>\n",
              "      <td>0.88</td>\n",
              "      <td>26,528.00</td>\n",
              "      <td>4.16</td>\n",
              "      <td>39.41</td>\n",
              "      <td>46.16</td>\n",
              "      <td>2.92</td>\n",
              "      <td>2.55</td>\n",
              "      <td>2.89</td>\n",
              "      <td>2.55</td>\n",
              "      <td>1.44</td>\n",
              "      <td>0.36</td>\n",
              "      <td>0.48</td>\n",
              "      <td>0.45</td>\n",
              "      <td>0.40</td>\n",
              "      <td>0.47</td>\n",
              "      <td>0.47</td>\n",
              "      <td>0.00</td>\n",
              "      <td>2.82</td>\n",
              "      <td>10.49</td>\n",
              "      <td>2.30</td>\n",
              "      <td>0.34</td>\n",
              "      <td>0.44</td>\n",
              "      <td>0.27</td>\n",
              "      <td>0.22</td>\n",
              "      <td>0.24</td>\n",
              "      <td>0.33</td>\n",
              "      <td>0.44</td>\n",
              "      <td>0.33</td>\n",
              "      <td>0.46</td>\n",
              "      <td>0.48</td>\n",
              "      <td>0.41</td>\n",
              "      <td>0.22</td>\n",
              "      <td>0.50</td>\n",
              "      <td>0.49</td>\n",
              "      <td>0.05</td>\n",
              "      <td>0.00</td>\n",
              "    </tr>\n",
              "    <tr>\n",
              "      <th>min</th>\n",
              "      <td>28.00</td>\n",
              "      <td>2.13</td>\n",
              "      <td>8.00</td>\n",
              "      <td>0.00</td>\n",
              "      <td>0.00</td>\n",
              "      <td>0.00</td>\n",
              "      <td>1,982.00</td>\n",
              "      <td>27.00</td>\n",
              "      <td>17.00</td>\n",
              "      <td>0.00</td>\n",
              "      <td>0.00</td>\n",
              "      <td>0.00</td>\n",
              "      <td>0.00</td>\n",
              "      <td>0.00</td>\n",
              "      <td>0.00</td>\n",
              "      <td>0.00</td>\n",
              "      <td>0.00</td>\n",
              "      <td>0.00</td>\n",
              "      <td>0.00</td>\n",
              "      <td>0.00</td>\n",
              "      <td>0.00</td>\n",
              "      <td>0.00</td>\n",
              "      <td>0.00</td>\n",
              "      <td>0.00</td>\n",
              "      <td>0.00</td>\n",
              "      <td>0.00</td>\n",
              "      <td>0.00</td>\n",
              "      <td>0.00</td>\n",
              "      <td>0.00</td>\n",
              "      <td>0.00</td>\n",
              "      <td>0.00</td>\n",
              "      <td>0.00</td>\n",
              "      <td>0.00</td>\n",
              "      <td>0.00</td>\n",
              "      <td>0.00</td>\n",
              "      <td>0.00</td>\n",
              "      <td>0.00</td>\n",
              "      <td>0.00</td>\n",
              "      <td>0.00</td>\n",
              "      <td>0.00</td>\n",
              "      <td>...</td>\n",
              "      <td>-3.87</td>\n",
              "      <td>-3.77</td>\n",
              "      <td>-2.43</td>\n",
              "      <td>-2.31</td>\n",
              "      <td>-2.31</td>\n",
              "      <td>281.00</td>\n",
              "      <td>59.00</td>\n",
              "      <td>96.00</td>\n",
              "      <td>95.00</td>\n",
              "      <td>4.00</td>\n",
              "      <td>4.00</td>\n",
              "      <td>4.00</td>\n",
              "      <td>4.00</td>\n",
              "      <td>0.00</td>\n",
              "      <td>0.00</td>\n",
              "      <td>0.00</td>\n",
              "      <td>0.00</td>\n",
              "      <td>0.00</td>\n",
              "      <td>0.00</td>\n",
              "      <td>0.00</td>\n",
              "      <td>0.00</td>\n",
              "      <td>1.00</td>\n",
              "      <td>10.00</td>\n",
              "      <td>0.13</td>\n",
              "      <td>0.00</td>\n",
              "      <td>0.00</td>\n",
              "      <td>0.00</td>\n",
              "      <td>0.00</td>\n",
              "      <td>0.00</td>\n",
              "      <td>0.00</td>\n",
              "      <td>0.00</td>\n",
              "      <td>0.00</td>\n",
              "      <td>0.00</td>\n",
              "      <td>0.00</td>\n",
              "      <td>0.00</td>\n",
              "      <td>0.00</td>\n",
              "      <td>0.00</td>\n",
              "      <td>0.00</td>\n",
              "      <td>0.00</td>\n",
              "      <td>0.00</td>\n",
              "    </tr>\n",
              "    <tr>\n",
              "      <th>25%</th>\n",
              "      <td>1,833.25</td>\n",
              "      <td>12.00</td>\n",
              "      <td>12.00</td>\n",
              "      <td>4.24</td>\n",
              "      <td>0.00</td>\n",
              "      <td>0.00</td>\n",
              "      <td>1,982.00</td>\n",
              "      <td>27.00</td>\n",
              "      <td>24.00</td>\n",
              "      <td>40,725.00</td>\n",
              "      <td>223.75</td>\n",
              "      <td>1.00</td>\n",
              "      <td>0.00</td>\n",
              "      <td>0.00</td>\n",
              "      <td>0.00</td>\n",
              "      <td>0.00</td>\n",
              "      <td>0.00</td>\n",
              "      <td>0.00</td>\n",
              "      <td>0.00</td>\n",
              "      <td>0.00</td>\n",
              "      <td>0.00</td>\n",
              "      <td>0.00</td>\n",
              "      <td>0.00</td>\n",
              "      <td>1.00</td>\n",
              "      <td>0.00</td>\n",
              "      <td>0.00</td>\n",
              "      <td>0.00</td>\n",
              "      <td>0.00</td>\n",
              "      <td>0.00</td>\n",
              "      <td>0.00</td>\n",
              "      <td>0.00</td>\n",
              "      <td>0.00</td>\n",
              "      <td>8.00</td>\n",
              "      <td>5.00</td>\n",
              "      <td>0.00</td>\n",
              "      <td>0.00</td>\n",
              "      <td>0.00</td>\n",
              "      <td>0.00</td>\n",
              "      <td>0.00</td>\n",
              "      <td>0.00</td>\n",
              "      <td>...</td>\n",
              "      <td>-0.41</td>\n",
              "      <td>-0.38</td>\n",
              "      <td>-0.17</td>\n",
              "      <td>-0.18</td>\n",
              "      <td>-0.32</td>\n",
              "      <td>41,179.50</td>\n",
              "      <td>64.00</td>\n",
              "      <td>135.00</td>\n",
              "      <td>141.50</td>\n",
              "      <td>12.00</td>\n",
              "      <td>12.00</td>\n",
              "      <td>12.00</td>\n",
              "      <td>12.00</td>\n",
              "      <td>1.00</td>\n",
              "      <td>0.00</td>\n",
              "      <td>0.00</td>\n",
              "      <td>0.00</td>\n",
              "      <td>0.00</td>\n",
              "      <td>0.00</td>\n",
              "      <td>0.00</td>\n",
              "      <td>0.00</td>\n",
              "      <td>3.00</td>\n",
              "      <td>40.00</td>\n",
              "      <td>1.27</td>\n",
              "      <td>0.00</td>\n",
              "      <td>0.00</td>\n",
              "      <td>0.00</td>\n",
              "      <td>0.00</td>\n",
              "      <td>0.00</td>\n",
              "      <td>0.00</td>\n",
              "      <td>0.00</td>\n",
              "      <td>0.00</td>\n",
              "      <td>0.00</td>\n",
              "      <td>0.00</td>\n",
              "      <td>0.00</td>\n",
              "      <td>0.00</td>\n",
              "      <td>0.00</td>\n",
              "      <td>0.00</td>\n",
              "      <td>0.00</td>\n",
              "      <td>0.00</td>\n",
              "    </tr>\n",
              "    <tr>\n",
              "      <th>50%</th>\n",
              "      <td>3,470.50</td>\n",
              "      <td>16.00</td>\n",
              "      <td>16.00</td>\n",
              "      <td>5.75</td>\n",
              "      <td>0.00</td>\n",
              "      <td>1.00</td>\n",
              "      <td>1,983.00</td>\n",
              "      <td>28.00</td>\n",
              "      <td>26.00</td>\n",
              "      <td>58,027.50</td>\n",
              "      <td>333.00</td>\n",
              "      <td>1.00</td>\n",
              "      <td>0.00</td>\n",
              "      <td>0.00</td>\n",
              "      <td>0.00</td>\n",
              "      <td>0.00</td>\n",
              "      <td>0.00</td>\n",
              "      <td>0.00</td>\n",
              "      <td>1.00</td>\n",
              "      <td>0.00</td>\n",
              "      <td>0.00</td>\n",
              "      <td>0.00</td>\n",
              "      <td>0.00</td>\n",
              "      <td>1.00</td>\n",
              "      <td>0.00</td>\n",
              "      <td>0.00</td>\n",
              "      <td>0.00</td>\n",
              "      <td>0.00</td>\n",
              "      <td>0.00</td>\n",
              "      <td>0.00</td>\n",
              "      <td>0.00</td>\n",
              "      <td>0.00</td>\n",
              "      <td>10.00</td>\n",
              "      <td>8.00</td>\n",
              "      <td>0.00</td>\n",
              "      <td>0.00</td>\n",
              "      <td>0.00</td>\n",
              "      <td>0.00</td>\n",
              "      <td>0.00</td>\n",
              "      <td>0.00</td>\n",
              "      <td>...</td>\n",
              "      <td>0.21</td>\n",
              "      <td>0.26</td>\n",
              "      <td>0.36</td>\n",
              "      <td>0.39</td>\n",
              "      <td>0.35</td>\n",
              "      <td>63,057.00</td>\n",
              "      <td>68.00</td>\n",
              "      <td>158.00</td>\n",
              "      <td>170.00</td>\n",
              "      <td>13.00</td>\n",
              "      <td>13.00</td>\n",
              "      <td>14.00</td>\n",
              "      <td>13.00</td>\n",
              "      <td>2.00</td>\n",
              "      <td>0.00</td>\n",
              "      <td>0.00</td>\n",
              "      <td>0.00</td>\n",
              "      <td>0.00</td>\n",
              "      <td>0.00</td>\n",
              "      <td>1.00</td>\n",
              "      <td>0.00</td>\n",
              "      <td>5.00</td>\n",
              "      <td>40.00</td>\n",
              "      <td>3.15</td>\n",
              "      <td>0.00</td>\n",
              "      <td>1.00</td>\n",
              "      <td>0.00</td>\n",
              "      <td>0.00</td>\n",
              "      <td>0.00</td>\n",
              "      <td>0.00</td>\n",
              "      <td>1.00</td>\n",
              "      <td>0.00</td>\n",
              "      <td>0.00</td>\n",
              "      <td>0.00</td>\n",
              "      <td>0.00</td>\n",
              "      <td>0.00</td>\n",
              "      <td>1.00</td>\n",
              "      <td>0.00</td>\n",
              "      <td>0.00</td>\n",
              "      <td>0.00</td>\n",
              "    </tr>\n",
              "    <tr>\n",
              "      <th>75%</th>\n",
              "      <td>5,186.75</td>\n",
              "      <td>24.04</td>\n",
              "      <td>17.00</td>\n",
              "      <td>7.75</td>\n",
              "      <td>1.00</td>\n",
              "      <td>1.00</td>\n",
              "      <td>1,984.00</td>\n",
              "      <td>29.00</td>\n",
              "      <td>30.00</td>\n",
              "      <td>77,432.50</td>\n",
              "      <td>468.50</td>\n",
              "      <td>1.00</td>\n",
              "      <td>0.00</td>\n",
              "      <td>0.00</td>\n",
              "      <td>0.00</td>\n",
              "      <td>0.00</td>\n",
              "      <td>0.00</td>\n",
              "      <td>0.00</td>\n",
              "      <td>1.00</td>\n",
              "      <td>0.00</td>\n",
              "      <td>0.00</td>\n",
              "      <td>0.00</td>\n",
              "      <td>0.00</td>\n",
              "      <td>1.00</td>\n",
              "      <td>0.00</td>\n",
              "      <td>0.00</td>\n",
              "      <td>0.00</td>\n",
              "      <td>1.00</td>\n",
              "      <td>0.00</td>\n",
              "      <td>1.00</td>\n",
              "      <td>0.00</td>\n",
              "      <td>0.00</td>\n",
              "      <td>12.00</td>\n",
              "      <td>10.00</td>\n",
              "      <td>0.00</td>\n",
              "      <td>1.00</td>\n",
              "      <td>0.00</td>\n",
              "      <td>1.00</td>\n",
              "      <td>0.00</td>\n",
              "      <td>1.00</td>\n",
              "      <td>...</td>\n",
              "      <td>0.79</td>\n",
              "      <td>0.84</td>\n",
              "      <td>0.96</td>\n",
              "      <td>0.95</td>\n",
              "      <td>0.93</td>\n",
              "      <td>82,943.00</td>\n",
              "      <td>71.00</td>\n",
              "      <td>185.00</td>\n",
              "      <td>200.00</td>\n",
              "      <td>16.00</td>\n",
              "      <td>16.00</td>\n",
              "      <td>16.00</td>\n",
              "      <td>16.00</td>\n",
              "      <td>3.00</td>\n",
              "      <td>0.00</td>\n",
              "      <td>1.00</td>\n",
              "      <td>1.00</td>\n",
              "      <td>0.00</td>\n",
              "      <td>1.00</td>\n",
              "      <td>1.00</td>\n",
              "      <td>0.00</td>\n",
              "      <td>7.00</td>\n",
              "      <td>42.00</td>\n",
              "      <td>4.99</td>\n",
              "      <td>0.00</td>\n",
              "      <td>1.00</td>\n",
              "      <td>0.00</td>\n",
              "      <td>0.00</td>\n",
              "      <td>0.00</td>\n",
              "      <td>0.00</td>\n",
              "      <td>1.00</td>\n",
              "      <td>0.00</td>\n",
              "      <td>1.00</td>\n",
              "      <td>1.00</td>\n",
              "      <td>0.00</td>\n",
              "      <td>0.00</td>\n",
              "      <td>1.00</td>\n",
              "      <td>1.00</td>\n",
              "      <td>0.00</td>\n",
              "      <td>0.00</td>\n",
              "    </tr>\n",
              "    <tr>\n",
              "      <th>max</th>\n",
              "      <td>8,978.00</td>\n",
              "      <td>123.08</td>\n",
              "      <td>20.00</td>\n",
              "      <td>12.33</td>\n",
              "      <td>1.00</td>\n",
              "      <td>1.00</td>\n",
              "      <td>1,984.00</td>\n",
              "      <td>29.00</td>\n",
              "      <td>41.00</td>\n",
              "      <td>246,474.00</td>\n",
              "      <td>1,627.00</td>\n",
              "      <td>1.00</td>\n",
              "      <td>1.00</td>\n",
              "      <td>1.00</td>\n",
              "      <td>0.00</td>\n",
              "      <td>0.00</td>\n",
              "      <td>1.00</td>\n",
              "      <td>1.00</td>\n",
              "      <td>1.00</td>\n",
              "      <td>1.00</td>\n",
              "      <td>0.00</td>\n",
              "      <td>1.00</td>\n",
              "      <td>1.00</td>\n",
              "      <td>1.00</td>\n",
              "      <td>1.00</td>\n",
              "      <td>1.00</td>\n",
              "      <td>1.00</td>\n",
              "      <td>1.00</td>\n",
              "      <td>1.00</td>\n",
              "      <td>1.00</td>\n",
              "      <td>1.00</td>\n",
              "      <td>1.00</td>\n",
              "      <td>16.00</td>\n",
              "      <td>16.00</td>\n",
              "      <td>1.00</td>\n",
              "      <td>1.00</td>\n",
              "      <td>1.00</td>\n",
              "      <td>1.00</td>\n",
              "      <td>1.00</td>\n",
              "      <td>1.00</td>\n",
              "      <td>...</td>\n",
              "      <td>3.61</td>\n",
              "      <td>2.98</td>\n",
              "      <td>2.26</td>\n",
              "      <td>2.50</td>\n",
              "      <td>2.38</td>\n",
              "      <td>100,000.00</td>\n",
              "      <td>80.00</td>\n",
              "      <td>314.00</td>\n",
              "      <td>350.00</td>\n",
              "      <td>20.00</td>\n",
              "      <td>20.00</td>\n",
              "      <td>20.00</td>\n",
              "      <td>20.00</td>\n",
              "      <td>14.00</td>\n",
              "      <td>1.00</td>\n",
              "      <td>1.00</td>\n",
              "      <td>1.00</td>\n",
              "      <td>1.00</td>\n",
              "      <td>1.00</td>\n",
              "      <td>1.00</td>\n",
              "      <td>0.00</td>\n",
              "      <td>16.00</td>\n",
              "      <td>80.00</td>\n",
              "      <td>9.71</td>\n",
              "      <td>1.00</td>\n",
              "      <td>1.00</td>\n",
              "      <td>1.00</td>\n",
              "      <td>1.00</td>\n",
              "      <td>1.00</td>\n",
              "      <td>1.00</td>\n",
              "      <td>2.00</td>\n",
              "      <td>1.00</td>\n",
              "      <td>1.00</td>\n",
              "      <td>1.00</td>\n",
              "      <td>1.00</td>\n",
              "      <td>1.00</td>\n",
              "      <td>1.00</td>\n",
              "      <td>1.00</td>\n",
              "      <td>1.00</td>\n",
              "      <td>0.00</td>\n",
              "    </tr>\n",
              "  </tbody>\n",
              "</table>\n",
              "<p>8 rows × 96 columns</p>\n",
              "</div>\n",
              "      <button class=\"colab-df-convert\" onclick=\"convertToInteractive('df-7c01a5ef-bb44-4326-83f4-3ae4a109d661')\"\n",
              "              title=\"Convert this dataframe to an interactive table.\"\n",
              "              style=\"display:none;\">\n",
              "        \n",
              "  <svg xmlns=\"http://www.w3.org/2000/svg\" height=\"24px\"viewBox=\"0 0 24 24\"\n",
              "       width=\"24px\">\n",
              "    <path d=\"M0 0h24v24H0V0z\" fill=\"none\"/>\n",
              "    <path d=\"M18.56 5.44l.94 2.06.94-2.06 2.06-.94-2.06-.94-.94-2.06-.94 2.06-2.06.94zm-11 1L8.5 8.5l.94-2.06 2.06-.94-2.06-.94L8.5 2.5l-.94 2.06-2.06.94zm10 10l.94 2.06.94-2.06 2.06-.94-2.06-.94-.94-2.06-.94 2.06-2.06.94z\"/><path d=\"M17.41 7.96l-1.37-1.37c-.4-.4-.92-.59-1.43-.59-.52 0-1.04.2-1.43.59L10.3 9.45l-7.72 7.72c-.78.78-.78 2.05 0 2.83L4 21.41c.39.39.9.59 1.41.59.51 0 1.02-.2 1.41-.59l7.78-7.78 2.81-2.81c.8-.78.8-2.07 0-2.86zM5.41 20L4 18.59l7.72-7.72 1.47 1.35L5.41 20z\"/>\n",
              "  </svg>\n",
              "      </button>\n",
              "      \n",
              "  <style>\n",
              "    .colab-df-container {\n",
              "      display:flex;\n",
              "      flex-wrap:wrap;\n",
              "      gap: 12px;\n",
              "    }\n",
              "\n",
              "    .colab-df-convert {\n",
              "      background-color: #E8F0FE;\n",
              "      border: none;\n",
              "      border-radius: 50%;\n",
              "      cursor: pointer;\n",
              "      display: none;\n",
              "      fill: #1967D2;\n",
              "      height: 32px;\n",
              "      padding: 0 0 0 0;\n",
              "      width: 32px;\n",
              "    }\n",
              "\n",
              "    .colab-df-convert:hover {\n",
              "      background-color: #E2EBFA;\n",
              "      box-shadow: 0px 1px 2px rgba(60, 64, 67, 0.3), 0px 1px 3px 1px rgba(60, 64, 67, 0.15);\n",
              "      fill: #174EA6;\n",
              "    }\n",
              "\n",
              "    [theme=dark] .colab-df-convert {\n",
              "      background-color: #3B4455;\n",
              "      fill: #D2E3FC;\n",
              "    }\n",
              "\n",
              "    [theme=dark] .colab-df-convert:hover {\n",
              "      background-color: #434B5C;\n",
              "      box-shadow: 0px 1px 3px 1px rgba(0, 0, 0, 0.15);\n",
              "      filter: drop-shadow(0px 1px 2px rgba(0, 0, 0, 0.3));\n",
              "      fill: #FFFFFF;\n",
              "    }\n",
              "  </style>\n",
              "\n",
              "      <script>\n",
              "        const buttonEl =\n",
              "          document.querySelector('#df-7c01a5ef-bb44-4326-83f4-3ae4a109d661 button.colab-df-convert');\n",
              "        buttonEl.style.display =\n",
              "          google.colab.kernel.accessAllowed ? 'block' : 'none';\n",
              "\n",
              "        async function convertToInteractive(key) {\n",
              "          const element = document.querySelector('#df-7c01a5ef-bb44-4326-83f4-3ae4a109d661');\n",
              "          const dataTable =\n",
              "            await google.colab.kernel.invokeFunction('convertToInteractive',\n",
              "                                                     [key], {});\n",
              "          if (!dataTable) return;\n",
              "\n",
              "          const docLinkHtml = 'Like what you see? Visit the ' +\n",
              "            '<a target=\"_blank\" href=https://colab.research.google.com/notebooks/data_table.ipynb>data table notebook</a>'\n",
              "            + ' to learn more about interactive tables.';\n",
              "          element.innerHTML = '';\n",
              "          dataTable['output_type'] = 'display_data';\n",
              "          await google.colab.output.renderOutput(dataTable, element);\n",
              "          const docLink = document.createElement('div');\n",
              "          docLink.innerHTML = docLinkHtml;\n",
              "          element.appendChild(docLink);\n",
              "        }\n",
              "      </script>\n",
              "    </div>\n",
              "  </div>\n",
              "  "
            ],
            "text/plain": [
              "            ID  EARNINGS      S    EXP  ...  MSA11NCC  MSA11CC  MSA11NK  MSA11NIC\n",
              "count   492.00    492.00 492.00 492.00  ...    492.00   492.00   492.00    492.00\n",
              "mean  3,530.57     19.13  14.89   5.92  ...      0.54     0.41     0.00      0.00\n",
              "std   1,948.08     11.54   2.69   2.51  ...      0.50     0.49     0.05      0.00\n",
              "min      28.00      2.13   8.00   0.00  ...      0.00     0.00     0.00      0.00\n",
              "25%   1,833.25     12.00  12.00   4.24  ...      0.00     0.00     0.00      0.00\n",
              "50%   3,470.50     16.00  16.00   5.75  ...      1.00     0.00     0.00      0.00\n",
              "75%   5,186.75     24.04  17.00   7.75  ...      1.00     1.00     0.00      0.00\n",
              "max   8,978.00    123.08  20.00  12.33  ...      1.00     1.00     1.00      0.00\n",
              "\n",
              "[8 rows x 96 columns]"
            ]
          },
          "metadata": {},
          "execution_count": 9
        }
      ]
    },
    {
      "cell_type": "code",
      "source": [
        "df_data.info()"
      ],
      "metadata": {
        "colab": {
          "base_uri": "https://localhost:8080/"
        },
        "id": "Jh1IBp5bnodb",
        "outputId": "f622eb1e-3b11-498f-82fc-c89236f1e5f1"
      },
      "execution_count": null,
      "outputs": [
        {
          "output_type": "stream",
          "name": "stdout",
          "text": [
            "<class 'pandas.core.frame.DataFrame'>\n",
            "Int64Index: 492 entries, 0 to 1989\n",
            "Data columns (total 96 columns):\n",
            " #   Column    Non-Null Count  Dtype  \n",
            "---  ------    --------------  -----  \n",
            " 0   ID        492 non-null    int64  \n",
            " 1   EARNINGS  492 non-null    float64\n",
            " 2   S         492 non-null    int64  \n",
            " 3   EXP       492 non-null    float64\n",
            " 4   FEMALE    492 non-null    int64  \n",
            " 5   MALE      492 non-null    int64  \n",
            " 6   BYEAR     492 non-null    int64  \n",
            " 7   AGE       492 non-null    int64  \n",
            " 8   AGEMBTH   492 non-null    float64\n",
            " 9   HHINC97   492 non-null    float64\n",
            " 10  POVRAT97  492 non-null    float64\n",
            " 11  HHBMBF    492 non-null    int64  \n",
            " 12  HHBMOF    492 non-null    int64  \n",
            " 13  HHOMBF    492 non-null    int64  \n",
            " 14  HHBMONLY  492 non-null    int64  \n",
            " 15  HHBFONLY  492 non-null    int64  \n",
            " 16  HHOTHER   492 non-null    int64  \n",
            " 17  MSA97NO   492 non-null    int64  \n",
            " 18  MSA97NCC  492 non-null    int64  \n",
            " 19  MSA97CC   492 non-null    int64  \n",
            " 20  MSA97NK   492 non-null    int64  \n",
            " 21  ETHBLACK  492 non-null    int64  \n",
            " 22  ETHHISP   492 non-null    int64  \n",
            " 23  ETHWHITE  492 non-null    int64  \n",
            " 24  EDUCPROF  492 non-null    int64  \n",
            " 25  EDUCPHD   492 non-null    int64  \n",
            " 26  EDUCMAST  492 non-null    int64  \n",
            " 27  EDUCBA    492 non-null    int64  \n",
            " 28  EDUCAA    492 non-null    int64  \n",
            " 29  EDUCHSD   492 non-null    int64  \n",
            " 30  EDUCGED   492 non-null    int64  \n",
            " 31  EDUCDO    492 non-null    int64  \n",
            " 32  PRMONM    492 non-null    float64\n",
            " 33  PRMONF    492 non-null    float64\n",
            " 34  PRMSTYUN  492 non-null    float64\n",
            " 35  PRMSTYPE  492 non-null    float64\n",
            " 36  PRMSTYAN  492 non-null    float64\n",
            " 37  PRMSTYAE  492 non-null    float64\n",
            " 38  PRFSTYUN  492 non-null    float64\n",
            " 39  PRFSTYPE  492 non-null    float64\n",
            " 40  PRFSTYAN  492 non-null    float64\n",
            " 41  PRFSTYAE  492 non-null    float64\n",
            " 42  SINGLE    492 non-null    int64  \n",
            " 43  MARRIED   492 non-null    int64  \n",
            " 44  COHABIT   492 non-null    int64  \n",
            " 45  OTHSING   492 non-null    int64  \n",
            " 46  FAITHN    492 non-null    int64  \n",
            " 47  FAITHP    492 non-null    int64  \n",
            " 48  FAITHC    492 non-null    int64  \n",
            " 49  FAITHJ    492 non-null    int64  \n",
            " 50  FAITHO    492 non-null    int64  \n",
            " 51  FAITHM    492 non-null    int64  \n",
            " 52  ASVABAR   492 non-null    float64\n",
            " 53  ASVABWK   492 non-null    float64\n",
            " 54  ASVABPC   492 non-null    float64\n",
            " 55  ASVABMK   492 non-null    float64\n",
            " 56  ASVABNO   492 non-null    float64\n",
            " 57  ASVABCS   492 non-null    float64\n",
            " 58  ASVABC    492 non-null    float64\n",
            " 59  ASVABC4   492 non-null    float64\n",
            " 60  VERBAL    492 non-null    float64\n",
            " 61  ASVABMV   492 non-null    int64  \n",
            " 62  HEIGHT    492 non-null    int64  \n",
            " 63  WEIGHT04  492 non-null    int64  \n",
            " 64  WEIGHT11  492 non-null    int64  \n",
            " 65  SF        492 non-null    int64  \n",
            " 66  SM        492 non-null    int64  \n",
            " 67  SFR       492 non-null    float64\n",
            " 68  SMR       492 non-null    float64\n",
            " 69  SIBLINGS  492 non-null    int64  \n",
            " 70  REG97NE   492 non-null    int64  \n",
            " 71  REG97NC   492 non-null    int64  \n",
            " 72  REG97S    492 non-null    int64  \n",
            " 73  REG97W    492 non-null    int64  \n",
            " 74  RS97RURL  492 non-null    int64  \n",
            " 75  RS97URBN  492 non-null    int64  \n",
            " 76  RS97UNKN  492 non-null    int64  \n",
            " 77  JOBS      492 non-null    float64\n",
            " 78  HOURS     492 non-null    int64  \n",
            " 79  TENURE    492 non-null    float64\n",
            " 80  CATGOV    492 non-null    int64  \n",
            " 81  CATPRI    492 non-null    int64  \n",
            " 82  CATNPO    492 non-null    int64  \n",
            " 83  CATMIS    492 non-null    int64  \n",
            " 84  CATSE     492 non-null    int64  \n",
            " 85  COLLBARG  492 non-null    int64  \n",
            " 86  URBAN     492 non-null    int64  \n",
            " 87  REGNE     492 non-null    int64  \n",
            " 88  REGNC     492 non-null    int64  \n",
            " 89  REGW      492 non-null    int64  \n",
            " 90  REGS      492 non-null    int64  \n",
            " 91  MSA11NO   492 non-null    int64  \n",
            " 92  MSA11NCC  492 non-null    int64  \n",
            " 93  MSA11CC   492 non-null    int64  \n",
            " 94  MSA11NK   492 non-null    int64  \n",
            " 95  MSA11NIC  492 non-null    int64  \n",
            "dtypes: float64(28), int64(68)\n",
            "memory usage: 372.8 KB\n"
          ]
        }
      ]
    },
    {
      "cell_type": "code",
      "source": [
        "df_data.tail(5)"
      ],
      "metadata": {
        "colab": {
          "base_uri": "https://localhost:8080/",
          "height": 300
        },
        "id": "TsObJ50wo6ae",
        "outputId": "4c804190-b9eb-4863-c34c-5068e8ef5ea8"
      },
      "execution_count": null,
      "outputs": [
        {
          "output_type": "execute_result",
          "data": {
            "text/html": [
              "\n",
              "  <div id=\"df-0fb687ac-12ba-422e-a715-95d8928b4819\">\n",
              "    <div class=\"colab-df-container\">\n",
              "      <div>\n",
              "<style scoped>\n",
              "    .dataframe tbody tr th:only-of-type {\n",
              "        vertical-align: middle;\n",
              "    }\n",
              "\n",
              "    .dataframe tbody tr th {\n",
              "        vertical-align: top;\n",
              "    }\n",
              "\n",
              "    .dataframe thead th {\n",
              "        text-align: right;\n",
              "    }\n",
              "</style>\n",
              "<table border=\"1\" class=\"dataframe\">\n",
              "  <thead>\n",
              "    <tr style=\"text-align: right;\">\n",
              "      <th></th>\n",
              "      <th>ID</th>\n",
              "      <th>EARNINGS</th>\n",
              "      <th>S</th>\n",
              "      <th>EXP</th>\n",
              "      <th>FEMALE</th>\n",
              "      <th>MALE</th>\n",
              "      <th>BYEAR</th>\n",
              "      <th>AGE</th>\n",
              "      <th>AGEMBTH</th>\n",
              "      <th>HHINC97</th>\n",
              "      <th>POVRAT97</th>\n",
              "      <th>HHBMBF</th>\n",
              "      <th>HHBMOF</th>\n",
              "      <th>HHOMBF</th>\n",
              "      <th>HHBMONLY</th>\n",
              "      <th>HHBFONLY</th>\n",
              "      <th>HHOTHER</th>\n",
              "      <th>MSA97NO</th>\n",
              "      <th>MSA97NCC</th>\n",
              "      <th>MSA97CC</th>\n",
              "      <th>MSA97NK</th>\n",
              "      <th>ETHBLACK</th>\n",
              "      <th>ETHHISP</th>\n",
              "      <th>ETHWHITE</th>\n",
              "      <th>EDUCPROF</th>\n",
              "      <th>EDUCPHD</th>\n",
              "      <th>EDUCMAST</th>\n",
              "      <th>EDUCBA</th>\n",
              "      <th>EDUCAA</th>\n",
              "      <th>EDUCHSD</th>\n",
              "      <th>EDUCGED</th>\n",
              "      <th>EDUCDO</th>\n",
              "      <th>PRMONM</th>\n",
              "      <th>PRMONF</th>\n",
              "      <th>PRMSTYUN</th>\n",
              "      <th>PRMSTYPE</th>\n",
              "      <th>PRMSTYAN</th>\n",
              "      <th>PRMSTYAE</th>\n",
              "      <th>PRFSTYUN</th>\n",
              "      <th>PRFSTYPE</th>\n",
              "      <th>...</th>\n",
              "      <th>ASVABNO</th>\n",
              "      <th>ASVABCS</th>\n",
              "      <th>ASVABC</th>\n",
              "      <th>ASVABC4</th>\n",
              "      <th>VERBAL</th>\n",
              "      <th>ASVABMV</th>\n",
              "      <th>HEIGHT</th>\n",
              "      <th>WEIGHT04</th>\n",
              "      <th>WEIGHT11</th>\n",
              "      <th>SF</th>\n",
              "      <th>SM</th>\n",
              "      <th>SFR</th>\n",
              "      <th>SMR</th>\n",
              "      <th>SIBLINGS</th>\n",
              "      <th>REG97NE</th>\n",
              "      <th>REG97NC</th>\n",
              "      <th>REG97S</th>\n",
              "      <th>REG97W</th>\n",
              "      <th>RS97RURL</th>\n",
              "      <th>RS97URBN</th>\n",
              "      <th>RS97UNKN</th>\n",
              "      <th>JOBS</th>\n",
              "      <th>HOURS</th>\n",
              "      <th>TENURE</th>\n",
              "      <th>CATGOV</th>\n",
              "      <th>CATPRI</th>\n",
              "      <th>CATNPO</th>\n",
              "      <th>CATMIS</th>\n",
              "      <th>CATSE</th>\n",
              "      <th>COLLBARG</th>\n",
              "      <th>URBAN</th>\n",
              "      <th>REGNE</th>\n",
              "      <th>REGNC</th>\n",
              "      <th>REGW</th>\n",
              "      <th>REGS</th>\n",
              "      <th>MSA11NO</th>\n",
              "      <th>MSA11NCC</th>\n",
              "      <th>MSA11CC</th>\n",
              "      <th>MSA11NK</th>\n",
              "      <th>MSA11NIC</th>\n",
              "    </tr>\n",
              "  </thead>\n",
              "  <tbody>\n",
              "    <tr>\n",
              "      <th>1961</th>\n",
              "      <td>916</td>\n",
              "      <td>28.85</td>\n",
              "      <td>16</td>\n",
              "      <td>3.23</td>\n",
              "      <td>1</td>\n",
              "      <td>0</td>\n",
              "      <td>1983</td>\n",
              "      <td>28</td>\n",
              "      <td>35.00</td>\n",
              "      <td>95,000.00</td>\n",
              "      <td>597.00</td>\n",
              "      <td>1</td>\n",
              "      <td>0</td>\n",
              "      <td>0</td>\n",
              "      <td>0</td>\n",
              "      <td>0</td>\n",
              "      <td>0</td>\n",
              "      <td>0</td>\n",
              "      <td>1</td>\n",
              "      <td>0</td>\n",
              "      <td>0</td>\n",
              "      <td>0</td>\n",
              "      <td>0</td>\n",
              "      <td>1</td>\n",
              "      <td>0</td>\n",
              "      <td>0</td>\n",
              "      <td>0</td>\n",
              "      <td>1</td>\n",
              "      <td>0</td>\n",
              "      <td>0</td>\n",
              "      <td>0</td>\n",
              "      <td>0</td>\n",
              "      <td>8.00</td>\n",
              "      <td>4.00</td>\n",
              "      <td>0.00</td>\n",
              "      <td>1.00</td>\n",
              "      <td>0.00</td>\n",
              "      <td>0.00</td>\n",
              "      <td>0.00</td>\n",
              "      <td>0.00</td>\n",
              "      <td>...</td>\n",
              "      <td>-0.33</td>\n",
              "      <td>1.13</td>\n",
              "      <td>0.32</td>\n",
              "      <td>0.68</td>\n",
              "      <td>0.61</td>\n",
              "      <td>70288</td>\n",
              "      <td>64</td>\n",
              "      <td>105</td>\n",
              "      <td>105</td>\n",
              "      <td>16</td>\n",
              "      <td>14</td>\n",
              "      <td>16.00</td>\n",
              "      <td>14.00</td>\n",
              "      <td>3</td>\n",
              "      <td>0</td>\n",
              "      <td>0</td>\n",
              "      <td>0</td>\n",
              "      <td>1</td>\n",
              "      <td>0</td>\n",
              "      <td>1</td>\n",
              "      <td>0</td>\n",
              "      <td>6.00</td>\n",
              "      <td>40</td>\n",
              "      <td>0.27</td>\n",
              "      <td>0</td>\n",
              "      <td>0</td>\n",
              "      <td>1</td>\n",
              "      <td>0</td>\n",
              "      <td>0</td>\n",
              "      <td>0</td>\n",
              "      <td>1</td>\n",
              "      <td>0</td>\n",
              "      <td>0</td>\n",
              "      <td>1</td>\n",
              "      <td>0</td>\n",
              "      <td>0</td>\n",
              "      <td>0</td>\n",
              "      <td>1</td>\n",
              "      <td>0</td>\n",
              "      <td>0</td>\n",
              "    </tr>\n",
              "    <tr>\n",
              "      <th>1964</th>\n",
              "      <td>5530</td>\n",
              "      <td>2.33</td>\n",
              "      <td>12</td>\n",
              "      <td>7.87</td>\n",
              "      <td>1</td>\n",
              "      <td>0</td>\n",
              "      <td>1984</td>\n",
              "      <td>27</td>\n",
              "      <td>20.00</td>\n",
              "      <td>21,010.00</td>\n",
              "      <td>112.00</td>\n",
              "      <td>1</td>\n",
              "      <td>0</td>\n",
              "      <td>0</td>\n",
              "      <td>0</td>\n",
              "      <td>0</td>\n",
              "      <td>0</td>\n",
              "      <td>1</td>\n",
              "      <td>0</td>\n",
              "      <td>0</td>\n",
              "      <td>0</td>\n",
              "      <td>0</td>\n",
              "      <td>0</td>\n",
              "      <td>1</td>\n",
              "      <td>0</td>\n",
              "      <td>0</td>\n",
              "      <td>0</td>\n",
              "      <td>0</td>\n",
              "      <td>0</td>\n",
              "      <td>1</td>\n",
              "      <td>0</td>\n",
              "      <td>0</td>\n",
              "      <td>8.00</td>\n",
              "      <td>7.00</td>\n",
              "      <td>1.00</td>\n",
              "      <td>0.00</td>\n",
              "      <td>0.00</td>\n",
              "      <td>0.00</td>\n",
              "      <td>0.00</td>\n",
              "      <td>0.00</td>\n",
              "      <td>...</td>\n",
              "      <td>0.30</td>\n",
              "      <td>0.49</td>\n",
              "      <td>0.11</td>\n",
              "      <td>0.08</td>\n",
              "      <td>0.11</td>\n",
              "      <td>41160</td>\n",
              "      <td>62</td>\n",
              "      <td>140</td>\n",
              "      <td>215</td>\n",
              "      <td>14</td>\n",
              "      <td>10</td>\n",
              "      <td>14.00</td>\n",
              "      <td>10.00</td>\n",
              "      <td>2</td>\n",
              "      <td>0</td>\n",
              "      <td>1</td>\n",
              "      <td>0</td>\n",
              "      <td>0</td>\n",
              "      <td>1</td>\n",
              "      <td>0</td>\n",
              "      <td>0</td>\n",
              "      <td>1.00</td>\n",
              "      <td>20</td>\n",
              "      <td>7.25</td>\n",
              "      <td>0</td>\n",
              "      <td>1</td>\n",
              "      <td>0</td>\n",
              "      <td>0</td>\n",
              "      <td>0</td>\n",
              "      <td>0</td>\n",
              "      <td>1</td>\n",
              "      <td>0</td>\n",
              "      <td>1</td>\n",
              "      <td>0</td>\n",
              "      <td>0</td>\n",
              "      <td>0</td>\n",
              "      <td>1</td>\n",
              "      <td>0</td>\n",
              "      <td>0</td>\n",
              "      <td>0</td>\n",
              "    </tr>\n",
              "    <tr>\n",
              "      <th>1982</th>\n",
              "      <td>3897</td>\n",
              "      <td>10.00</td>\n",
              "      <td>14</td>\n",
              "      <td>8.77</td>\n",
              "      <td>1</td>\n",
              "      <td>0</td>\n",
              "      <td>1982</td>\n",
              "      <td>29</td>\n",
              "      <td>26.00</td>\n",
              "      <td>25,110.00</td>\n",
              "      <td>158.00</td>\n",
              "      <td>1</td>\n",
              "      <td>0</td>\n",
              "      <td>0</td>\n",
              "      <td>0</td>\n",
              "      <td>0</td>\n",
              "      <td>0</td>\n",
              "      <td>0</td>\n",
              "      <td>1</td>\n",
              "      <td>0</td>\n",
              "      <td>0</td>\n",
              "      <td>0</td>\n",
              "      <td>0</td>\n",
              "      <td>1</td>\n",
              "      <td>0</td>\n",
              "      <td>0</td>\n",
              "      <td>0</td>\n",
              "      <td>0</td>\n",
              "      <td>1</td>\n",
              "      <td>0</td>\n",
              "      <td>0</td>\n",
              "      <td>0</td>\n",
              "      <td>14.00</td>\n",
              "      <td>8.00</td>\n",
              "      <td>0.00</td>\n",
              "      <td>0.00</td>\n",
              "      <td>0.00</td>\n",
              "      <td>1.00</td>\n",
              "      <td>0.00</td>\n",
              "      <td>0.00</td>\n",
              "      <td>...</td>\n",
              "      <td>-0.25</td>\n",
              "      <td>0.87</td>\n",
              "      <td>0.36</td>\n",
              "      <td>0.69</td>\n",
              "      <td>0.88</td>\n",
              "      <td>79235</td>\n",
              "      <td>64</td>\n",
              "      <td>133</td>\n",
              "      <td>184</td>\n",
              "      <td>12</td>\n",
              "      <td>12</td>\n",
              "      <td>12.00</td>\n",
              "      <td>12.00</td>\n",
              "      <td>1</td>\n",
              "      <td>0</td>\n",
              "      <td>0</td>\n",
              "      <td>1</td>\n",
              "      <td>0</td>\n",
              "      <td>1</td>\n",
              "      <td>0</td>\n",
              "      <td>0</td>\n",
              "      <td>1.00</td>\n",
              "      <td>60</td>\n",
              "      <td>8.98</td>\n",
              "      <td>0</td>\n",
              "      <td>1</td>\n",
              "      <td>0</td>\n",
              "      <td>0</td>\n",
              "      <td>0</td>\n",
              "      <td>0</td>\n",
              "      <td>0</td>\n",
              "      <td>0</td>\n",
              "      <td>0</td>\n",
              "      <td>1</td>\n",
              "      <td>0</td>\n",
              "      <td>0</td>\n",
              "      <td>1</td>\n",
              "      <td>0</td>\n",
              "      <td>0</td>\n",
              "      <td>0</td>\n",
              "    </tr>\n",
              "    <tr>\n",
              "      <th>1984</th>\n",
              "      <td>2400</td>\n",
              "      <td>9.00</td>\n",
              "      <td>12</td>\n",
              "      <td>10.83</td>\n",
              "      <td>1</td>\n",
              "      <td>0</td>\n",
              "      <td>1982</td>\n",
              "      <td>29</td>\n",
              "      <td>29.00</td>\n",
              "      <td>73,100.00</td>\n",
              "      <td>390.00</td>\n",
              "      <td>1</td>\n",
              "      <td>0</td>\n",
              "      <td>0</td>\n",
              "      <td>0</td>\n",
              "      <td>0</td>\n",
              "      <td>0</td>\n",
              "      <td>0</td>\n",
              "      <td>1</td>\n",
              "      <td>0</td>\n",
              "      <td>0</td>\n",
              "      <td>0</td>\n",
              "      <td>0</td>\n",
              "      <td>1</td>\n",
              "      <td>0</td>\n",
              "      <td>0</td>\n",
              "      <td>0</td>\n",
              "      <td>0</td>\n",
              "      <td>0</td>\n",
              "      <td>1</td>\n",
              "      <td>0</td>\n",
              "      <td>0</td>\n",
              "      <td>11.00</td>\n",
              "      <td>4.00</td>\n",
              "      <td>0.00</td>\n",
              "      <td>0.00</td>\n",
              "      <td>0.00</td>\n",
              "      <td>1.00</td>\n",
              "      <td>0.00</td>\n",
              "      <td>0.00</td>\n",
              "      <td>...</td>\n",
              "      <td>0.20</td>\n",
              "      <td>-0.53</td>\n",
              "      <td>-0.83</td>\n",
              "      <td>-0.81</td>\n",
              "      <td>-1.09</td>\n",
              "      <td>22110</td>\n",
              "      <td>69</td>\n",
              "      <td>190</td>\n",
              "      <td>100</td>\n",
              "      <td>16</td>\n",
              "      <td>12</td>\n",
              "      <td>16.00</td>\n",
              "      <td>12.00</td>\n",
              "      <td>5</td>\n",
              "      <td>1</td>\n",
              "      <td>0</td>\n",
              "      <td>0</td>\n",
              "      <td>0</td>\n",
              "      <td>1</td>\n",
              "      <td>0</td>\n",
              "      <td>0</td>\n",
              "      <td>14.00</td>\n",
              "      <td>30</td>\n",
              "      <td>2.15</td>\n",
              "      <td>0</td>\n",
              "      <td>1</td>\n",
              "      <td>0</td>\n",
              "      <td>0</td>\n",
              "      <td>0</td>\n",
              "      <td>0</td>\n",
              "      <td>0</td>\n",
              "      <td>0</td>\n",
              "      <td>0</td>\n",
              "      <td>1</td>\n",
              "      <td>0</td>\n",
              "      <td>0</td>\n",
              "      <td>0</td>\n",
              "      <td>1</td>\n",
              "      <td>0</td>\n",
              "      <td>0</td>\n",
              "    </tr>\n",
              "    <tr>\n",
              "      <th>1989</th>\n",
              "      <td>3018</td>\n",
              "      <td>8.00</td>\n",
              "      <td>12</td>\n",
              "      <td>9.37</td>\n",
              "      <td>1</td>\n",
              "      <td>0</td>\n",
              "      <td>1982</td>\n",
              "      <td>29</td>\n",
              "      <td>23.00</td>\n",
              "      <td>66,300.00</td>\n",
              "      <td>354.00</td>\n",
              "      <td>1</td>\n",
              "      <td>0</td>\n",
              "      <td>0</td>\n",
              "      <td>0</td>\n",
              "      <td>0</td>\n",
              "      <td>0</td>\n",
              "      <td>0</td>\n",
              "      <td>1</td>\n",
              "      <td>0</td>\n",
              "      <td>0</td>\n",
              "      <td>0</td>\n",
              "      <td>0</td>\n",
              "      <td>1</td>\n",
              "      <td>0</td>\n",
              "      <td>0</td>\n",
              "      <td>0</td>\n",
              "      <td>0</td>\n",
              "      <td>0</td>\n",
              "      <td>1</td>\n",
              "      <td>0</td>\n",
              "      <td>0</td>\n",
              "      <td>16.00</td>\n",
              "      <td>10.00</td>\n",
              "      <td>0.00</td>\n",
              "      <td>1.00</td>\n",
              "      <td>0.00</td>\n",
              "      <td>0.00</td>\n",
              "      <td>0.00</td>\n",
              "      <td>1.00</td>\n",
              "      <td>...</td>\n",
              "      <td>-1.81</td>\n",
              "      <td>-1.15</td>\n",
              "      <td>-1.95</td>\n",
              "      <td>-1.78</td>\n",
              "      <td>-1.35</td>\n",
              "      <td>7706</td>\n",
              "      <td>67</td>\n",
              "      <td>125</td>\n",
              "      <td>160</td>\n",
              "      <td>13</td>\n",
              "      <td>14</td>\n",
              "      <td>13.00</td>\n",
              "      <td>14.00</td>\n",
              "      <td>2</td>\n",
              "      <td>0</td>\n",
              "      <td>1</td>\n",
              "      <td>0</td>\n",
              "      <td>0</td>\n",
              "      <td>1</td>\n",
              "      <td>0</td>\n",
              "      <td>0</td>\n",
              "      <td>3.00</td>\n",
              "      <td>28</td>\n",
              "      <td>1.46</td>\n",
              "      <td>0</td>\n",
              "      <td>1</td>\n",
              "      <td>0</td>\n",
              "      <td>0</td>\n",
              "      <td>0</td>\n",
              "      <td>0</td>\n",
              "      <td>1</td>\n",
              "      <td>0</td>\n",
              "      <td>1</td>\n",
              "      <td>0</td>\n",
              "      <td>0</td>\n",
              "      <td>0</td>\n",
              "      <td>1</td>\n",
              "      <td>0</td>\n",
              "      <td>0</td>\n",
              "      <td>0</td>\n",
              "    </tr>\n",
              "  </tbody>\n",
              "</table>\n",
              "<p>5 rows × 96 columns</p>\n",
              "</div>\n",
              "      <button class=\"colab-df-convert\" onclick=\"convertToInteractive('df-0fb687ac-12ba-422e-a715-95d8928b4819')\"\n",
              "              title=\"Convert this dataframe to an interactive table.\"\n",
              "              style=\"display:none;\">\n",
              "        \n",
              "  <svg xmlns=\"http://www.w3.org/2000/svg\" height=\"24px\"viewBox=\"0 0 24 24\"\n",
              "       width=\"24px\">\n",
              "    <path d=\"M0 0h24v24H0V0z\" fill=\"none\"/>\n",
              "    <path d=\"M18.56 5.44l.94 2.06.94-2.06 2.06-.94-2.06-.94-.94-2.06-.94 2.06-2.06.94zm-11 1L8.5 8.5l.94-2.06 2.06-.94-2.06-.94L8.5 2.5l-.94 2.06-2.06.94zm10 10l.94 2.06.94-2.06 2.06-.94-2.06-.94-.94-2.06-.94 2.06-2.06.94z\"/><path d=\"M17.41 7.96l-1.37-1.37c-.4-.4-.92-.59-1.43-.59-.52 0-1.04.2-1.43.59L10.3 9.45l-7.72 7.72c-.78.78-.78 2.05 0 2.83L4 21.41c.39.39.9.59 1.41.59.51 0 1.02-.2 1.41-.59l7.78-7.78 2.81-2.81c.8-.78.8-2.07 0-2.86zM5.41 20L4 18.59l7.72-7.72 1.47 1.35L5.41 20z\"/>\n",
              "  </svg>\n",
              "      </button>\n",
              "      \n",
              "  <style>\n",
              "    .colab-df-container {\n",
              "      display:flex;\n",
              "      flex-wrap:wrap;\n",
              "      gap: 12px;\n",
              "    }\n",
              "\n",
              "    .colab-df-convert {\n",
              "      background-color: #E8F0FE;\n",
              "      border: none;\n",
              "      border-radius: 50%;\n",
              "      cursor: pointer;\n",
              "      display: none;\n",
              "      fill: #1967D2;\n",
              "      height: 32px;\n",
              "      padding: 0 0 0 0;\n",
              "      width: 32px;\n",
              "    }\n",
              "\n",
              "    .colab-df-convert:hover {\n",
              "      background-color: #E2EBFA;\n",
              "      box-shadow: 0px 1px 2px rgba(60, 64, 67, 0.3), 0px 1px 3px 1px rgba(60, 64, 67, 0.15);\n",
              "      fill: #174EA6;\n",
              "    }\n",
              "\n",
              "    [theme=dark] .colab-df-convert {\n",
              "      background-color: #3B4455;\n",
              "      fill: #D2E3FC;\n",
              "    }\n",
              "\n",
              "    [theme=dark] .colab-df-convert:hover {\n",
              "      background-color: #434B5C;\n",
              "      box-shadow: 0px 1px 3px 1px rgba(0, 0, 0, 0.15);\n",
              "      filter: drop-shadow(0px 1px 2px rgba(0, 0, 0, 0.3));\n",
              "      fill: #FFFFFF;\n",
              "    }\n",
              "  </style>\n",
              "\n",
              "      <script>\n",
              "        const buttonEl =\n",
              "          document.querySelector('#df-0fb687ac-12ba-422e-a715-95d8928b4819 button.colab-df-convert');\n",
              "        buttonEl.style.display =\n",
              "          google.colab.kernel.accessAllowed ? 'block' : 'none';\n",
              "\n",
              "        async function convertToInteractive(key) {\n",
              "          const element = document.querySelector('#df-0fb687ac-12ba-422e-a715-95d8928b4819');\n",
              "          const dataTable =\n",
              "            await google.colab.kernel.invokeFunction('convertToInteractive',\n",
              "                                                     [key], {});\n",
              "          if (!dataTable) return;\n",
              "\n",
              "          const docLinkHtml = 'Like what you see? Visit the ' +\n",
              "            '<a target=\"_blank\" href=https://colab.research.google.com/notebooks/data_table.ipynb>data table notebook</a>'\n",
              "            + ' to learn more about interactive tables.';\n",
              "          element.innerHTML = '';\n",
              "          dataTable['output_type'] = 'display_data';\n",
              "          await google.colab.output.renderOutput(dataTable, element);\n",
              "          const docLink = document.createElement('div');\n",
              "          docLink.innerHTML = docLinkHtml;\n",
              "          element.appendChild(docLink);\n",
              "        }\n",
              "      </script>\n",
              "    </div>\n",
              "  </div>\n",
              "  "
            ],
            "text/plain": [
              "        ID  EARNINGS   S   EXP  ...  MSA11NCC  MSA11CC  MSA11NK  MSA11NIC\n",
              "1961   916     28.85  16  3.23  ...         0        1        0         0\n",
              "1964  5530      2.33  12  7.87  ...         1        0        0         0\n",
              "1982  3897     10.00  14  8.77  ...         1        0        0         0\n",
              "1984  2400      9.00  12 10.83  ...         0        1        0         0\n",
              "1989  3018      8.00  12  9.37  ...         1        0        0         0\n",
              "\n",
              "[5 rows x 96 columns]"
            ]
          },
          "metadata": {},
          "execution_count": 19
        }
      ]
    },
    {
      "cell_type": "markdown",
      "metadata": {
        "id": "ZO-86NXbnWSH"
      },
      "source": [
        "## Visualise the Features"
      ]
    },
    {
      "cell_type": "code",
      "metadata": {
        "id": "hFZJjbsKncPM",
        "colab": {
          "base_uri": "https://localhost:8080/",
          "height": 283
        },
        "outputId": "d6577baf-40b3-4f01-e61c-93944f989744"
      },
      "source": [
        "df_data_sorted = df_data.groupby('BYEAR', as_index=False).mean()\n",
        "plt.scatter(x=df_data_sorted.BYEAR, y=df_data_sorted.S, c='dodgerblue' )"
      ],
      "execution_count": null,
      "outputs": [
        {
          "output_type": "execute_result",
          "data": {
            "text/plain": [
              "<matplotlib.collections.PathCollection at 0x7fb372d32cd0>"
            ]
          },
          "metadata": {},
          "execution_count": 37
        },
        {
          "output_type": "display_data",
          "data": {
            "image/png": "[encoded data removed]",
            "text/plain": [
              "<Figure size 432x288 with 1 Axes>"
            ]
          },
          "metadata": {
            "needs_background": "light"
          }
        }
      ]
    },
    {
      "cell_type": "code",
      "source": [
        "plt.scatter(x=df_data_sorted.BYEAR, y=df_data_sorted.EXP, c='dodgerblue' )"
      ],
      "metadata": {
        "colab": {
          "base_uri": "https://localhost:8080/",
          "height": 283
        },
        "id": "8ub7qQuErjjO",
        "outputId": "b9629d38-f86c-4b5a-d431-a6f579cb2535"
      },
      "execution_count": null,
      "outputs": [
        {
          "output_type": "execute_result",
          "data": {
            "text/plain": [
              "<matplotlib.collections.PathCollection at 0x7fb372d27210>"
            ]
          },
          "metadata": {},
          "execution_count": 38
        },
        {
          "output_type": "display_data",
          "data": {
            "image/png": "[encoded data removed]",
            "text/plain": [
              "<Figure size 432x288 with 1 Axes>"
            ]
          },
          "metadata": {
            "needs_background": "light"
          }
        }
      ]
    },
    {
      "cell_type": "code",
      "source": [
        "plt.scatter(x=df_data_sorted.BYEAR, y=df_data_sorted.EARNINGS, c='dodgerblue' )"
      ],
      "metadata": {
        "colab": {
          "base_uri": "https://localhost:8080/",
          "height": 283
        },
        "id": "0PF-DECbuILA",
        "outputId": "07aa61ff-8310-46b1-ffb9-1bd12227dd78"
      },
      "execution_count": null,
      "outputs": [
        {
          "output_type": "execute_result",
          "data": {
            "text/plain": [
              "<matplotlib.collections.PathCollection at 0x7fb373338c50>"
            ]
          },
          "metadata": {},
          "execution_count": 39
        },
        {
          "output_type": "display_data",
          "data": {
            "image/png": "[encoded data removed]",
            "text/plain": [
              "<Figure size 432x288 with 1 Axes>"
            ]
          },
          "metadata": {
            "needs_background": "light"
          }
        }
      ]
    },
    {
      "cell_type": "markdown",
      "metadata": {
        "id": "9i4zHYG4nhDL"
      },
      "source": [
        "# Split Training & Test Dataset\n",
        "\n",
        "We *can't* use all the entries in our dataset to train our model. Keep 20% of the data for later as a testing dataset (out-of-sample data).  "
      ]
    },
    {
      "cell_type": "code",
      "metadata": {
        "id": "M_OfRSyunkA1"
      },
      "source": [
        "target = df_data['EARNINGS']\n",
        "features = df_data.drop('EARNINGS', axis=1)\n",
        "X_train, X_test, y_train, y_test = train_test_split(features, target, test_size=0.2, random_state=10)"
      ],
      "execution_count": 7,
      "outputs": []
    },
    {
      "cell_type": "markdown",
      "metadata": {
        "id": "EM99NOH0noFS"
      },
      "source": [
        "# Simple Linear Regression\n",
        "\n",
        "Only use the years of schooling to predict earnings. Use sklearn to run the regression on the training dataset. How high is the r-squared for the regression on the training data? "
      ]
    },
    {
      "cell_type": "code",
      "metadata": {
        "id": "J_MViuoNnvHf",
        "colab": {
          "base_uri": "https://localhost:8080/"
        },
        "outputId": "284f046e-2fce-4837-d5d5-e3392065b2ad"
      },
      "source": [
        "regr = LinearRegression()\n",
        "regr.fit(pd.DataFrame(X_train['BYEAR']), y_train)\n",
        "rsquared = regr.score(pd.DataFrame(X_train['BYEAR']), y_train)\n",
        "rsquared"
      ],
      "execution_count": 8,
      "outputs": [
        {
          "output_type": "execute_result",
          "data": {
            "text/plain": [
              "0.002416776225785955"
            ]
          },
          "metadata": {},
          "execution_count": 8
        }
      ]
    },
    {
      "cell_type": "markdown",
      "metadata": {
        "id": "s2TeWKs7oJSa"
      },
      "source": [
        "### Evaluate the Coefficients of the Model\n",
        "\n",
        "Here we do a sense check on our regression coefficients. The first thing to look for is if the coefficients have the expected sign (positive or negative). \n",
        "\n",
        "Interpret the regression. How many extra dollars can one expect to earn for an additional year of schooling?"
      ]
    },
    {
      "cell_type": "code",
      "metadata": {
        "id": "QmhzZAmAoW4t",
        "colab": {
          "base_uri": "https://localhost:8080/",
          "height": 424
        },
        "outputId": "b002763b-d657-42c1-a2f3-84954cad0dee"
      },
      "source": [
        "regr.fit(X_train, y_train)\n",
        "regr_coef = pd.DataFrame(data=regr.coef_, index=X_train.columns, columns=['Coefficient'])\n",
        "regr_coef"
      ],
      "execution_count": 15,
      "outputs": [
        {
          "output_type": "execute_result",
          "data": {
            "text/html": [
              "\n",
              "  <div id=\"df-c7069fd0-3928-4273-82d4-5bf065bf8a10\">\n",
              "    <div class=\"colab-df-container\">\n",
              "      <div>\n",
              "<style scoped>\n",
              "    .dataframe tbody tr th:only-of-type {\n",
              "        vertical-align: middle;\n",
              "    }\n",
              "\n",
              "    .dataframe tbody tr th {\n",
              "        vertical-align: top;\n",
              "    }\n",
              "\n",
              "    .dataframe thead th {\n",
              "        text-align: right;\n",
              "    }\n",
              "</style>\n",
              "<table border=\"1\" class=\"dataframe\">\n",
              "  <thead>\n",
              "    <tr style=\"text-align: right;\">\n",
              "      <th></th>\n",
              "      <th>Coefficient</th>\n",
              "    </tr>\n",
              "  </thead>\n",
              "  <tbody>\n",
              "    <tr>\n",
              "      <th>ID</th>\n",
              "      <td>0.00</td>\n",
              "    </tr>\n",
              "    <tr>\n",
              "      <th>S</th>\n",
              "      <td>0.93</td>\n",
              "    </tr>\n",
              "    <tr>\n",
              "      <th>EXP</th>\n",
              "      <td>0.90</td>\n",
              "    </tr>\n",
              "    <tr>\n",
              "      <th>FEMALE</th>\n",
              "      <td>-36.62</td>\n",
              "    </tr>\n",
              "    <tr>\n",
              "      <th>MALE</th>\n",
              "      <td>-31.27</td>\n",
              "    </tr>\n",
              "    <tr>\n",
              "      <th>...</th>\n",
              "      <td>...</td>\n",
              "    </tr>\n",
              "    <tr>\n",
              "      <th>MSA11NO</th>\n",
              "      <td>4.39</td>\n",
              "    </tr>\n",
              "    <tr>\n",
              "      <th>MSA11NCC</th>\n",
              "      <td>0.46</td>\n",
              "    </tr>\n",
              "    <tr>\n",
              "      <th>MSA11CC</th>\n",
              "      <td>-0.37</td>\n",
              "    </tr>\n",
              "    <tr>\n",
              "      <th>MSA11NK</th>\n",
              "      <td>-7.29</td>\n",
              "    </tr>\n",
              "    <tr>\n",
              "      <th>MSA11NIC</th>\n",
              "      <td>0.00</td>\n",
              "    </tr>\n",
              "  </tbody>\n",
              "</table>\n",
              "<p>95 rows × 1 columns</p>\n",
              "</div>\n",
              "      <button class=\"colab-df-convert\" onclick=\"convertToInteractive('df-c7069fd0-3928-4273-82d4-5bf065bf8a10')\"\n",
              "              title=\"Convert this dataframe to an interactive table.\"\n",
              "              style=\"display:none;\">\n",
              "        \n",
              "  <svg xmlns=\"http://www.w3.org/2000/svg\" height=\"24px\"viewBox=\"0 0 24 24\"\n",
              "       width=\"24px\">\n",
              "    <path d=\"M0 0h24v24H0V0z\" fill=\"none\"/>\n",
              "    <path d=\"M18.56 5.44l.94 2.06.94-2.06 2.06-.94-2.06-.94-.94-2.06-.94 2.06-2.06.94zm-11 1L8.5 8.5l.94-2.06 2.06-.94-2.06-.94L8.5 2.5l-.94 2.06-2.06.94zm10 10l.94 2.06.94-2.06 2.06-.94-2.06-.94-.94-2.06-.94 2.06-2.06.94z\"/><path d=\"M17.41 7.96l-1.37-1.37c-.4-.4-.92-.59-1.43-.59-.52 0-1.04.2-1.43.59L10.3 9.45l-7.72 7.72c-.78.78-.78 2.05 0 2.83L4 21.41c.39.39.9.59 1.41.59.51 0 1.02-.2 1.41-.59l7.78-7.78 2.81-2.81c.8-.78.8-2.07 0-2.86zM5.41 20L4 18.59l7.72-7.72 1.47 1.35L5.41 20z\"/>\n",
              "  </svg>\n",
              "      </button>\n",
              "      \n",
              "  <style>\n",
              "    .colab-df-container {\n",
              "      display:flex;\n",
              "      flex-wrap:wrap;\n",
              "      gap: 12px;\n",
              "    }\n",
              "\n",
              "    .colab-df-convert {\n",
              "      background-color: #E8F0FE;\n",
              "      border: none;\n",
              "      border-radius: 50%;\n",
              "      cursor: pointer;\n",
              "      display: none;\n",
              "      fill: #1967D2;\n",
              "      height: 32px;\n",
              "      padding: 0 0 0 0;\n",
              "      width: 32px;\n",
              "    }\n",
              "\n",
              "    .colab-df-convert:hover {\n",
              "      background-color: #E2EBFA;\n",
              "      box-shadow: 0px 1px 2px rgba(60, 64, 67, 0.3), 0px 1px 3px 1px rgba(60, 64, 67, 0.15);\n",
              "      fill: #174EA6;\n",
              "    }\n",
              "\n",
              "    [theme=dark] .colab-df-convert {\n",
              "      background-color: #3B4455;\n",
              "      fill: #D2E3FC;\n",
              "    }\n",
              "\n",
              "    [theme=dark] .colab-df-convert:hover {\n",
              "      background-color: #434B5C;\n",
              "      box-shadow: 0px 1px 3px 1px rgba(0, 0, 0, 0.15);\n",
              "      filter: drop-shadow(0px 1px 2px rgba(0, 0, 0, 0.3));\n",
              "      fill: #FFFFFF;\n",
              "    }\n",
              "  </style>\n",
              "\n",
              "      <script>\n",
              "        const buttonEl =\n",
              "          document.querySelector('#df-c7069fd0-3928-4273-82d4-5bf065bf8a10 button.colab-df-convert');\n",
              "        buttonEl.style.display =\n",
              "          google.colab.kernel.accessAllowed ? 'block' : 'none';\n",
              "\n",
              "        async function convertToInteractive(key) {\n",
              "          const element = document.querySelector('#df-c7069fd0-3928-4273-82d4-5bf065bf8a10');\n",
              "          const dataTable =\n",
              "            await google.colab.kernel.invokeFunction('convertToInteractive',\n",
              "                                                     [key], {});\n",
              "          if (!dataTable) return;\n",
              "\n",
              "          const docLinkHtml = 'Like what you see? Visit the ' +\n",
              "            '<a target=\"_blank\" href=https://colab.research.google.com/notebooks/data_table.ipynb>data table notebook</a>'\n",
              "            + ' to learn more about interactive tables.';\n",
              "          element.innerHTML = '';\n",
              "          dataTable['output_type'] = 'display_data';\n",
              "          await google.colab.output.renderOutput(dataTable, element);\n",
              "          const docLink = document.createElement('div');\n",
              "          docLink.innerHTML = docLinkHtml;\n",
              "          element.appendChild(docLink);\n",
              "        }\n",
              "      </script>\n",
              "    </div>\n",
              "  </div>\n",
              "  "
            ],
            "text/plain": [
              "          Coefficient\n",
              "ID               0.00\n",
              "S                0.93\n",
              "EXP              0.90\n",
              "FEMALE         -36.62\n",
              "MALE           -31.27\n",
              "...               ...\n",
              "MSA11NO          4.39\n",
              "MSA11NCC         0.46\n",
              "MSA11CC         -0.37\n",
              "MSA11NK         -7.29\n",
              "MSA11NIC         0.00\n",
              "\n",
              "[95 rows x 1 columns]"
            ]
          },
          "metadata": {},
          "execution_count": 15
        }
      ]
    },
    {
      "cell_type": "code",
      "metadata": {
        "id": "e9hpdAt3oWnq"
      },
      "source": [
        ""
      ],
      "execution_count": null,
      "outputs": []
    },
    {
      "cell_type": "markdown",
      "metadata": {
        "id": "WIyMPXXYobx8"
      },
      "source": [
        "### Analyse the Estimated Values & Regression Residuals\n",
        "\n",
        "How good our regression is also depends on the residuals - the difference between the model's predictions ( 𝑦̂ 𝑖 ) and the true values ( 𝑦𝑖 ) inside y_train. Do you see any patterns in the distribution of the residuals?"
      ]
    },
    {
      "cell_type": "code",
      "metadata": {
        "id": "khkgscweosP_",
        "colab": {
          "base_uri": "https://localhost:8080/",
          "height": 821
        },
        "outputId": "7266b899-cbb0-4dbf-bbe5-59f84497c4ff"
      },
      "source": [
        "predicted_vals = regr.predict(X_train)\n",
        "residuals = (y_train - predicted_values)\n",
        "# Original Regression of Actual vs. Predicted Prices\n",
        "plt.figure(dpi=100)\n",
        "plt.scatter(x=y_train, y=predicted_vals, c='indigo', alpha=0.6)\n",
        "plt.plot(y_train, y_train, color='cyan')\n",
        "plt.title(f'Actual vs Predicted Prices: $y _i$ vs $\\hat y_i$', fontsize=17)\n",
        "plt.xlabel('Actual prices 000s $y _i$', fontsize=14)\n",
        "plt.ylabel('Prediced prices 000s $\\hat y _i$', fontsize=14)\n",
        "plt.show()\n",
        "\n",
        "# Residuals vs Predicted values\n",
        "plt.figure(dpi=100)\n",
        "plt.scatter(x=predicted_vals, y=residuals, c='indigo', alpha=0.6)\n",
        "plt.title('Residuals vs Predicted Values', fontsize=17)\n",
        "plt.xlabel('Predicted Prices $\\hat y _i$', fontsize=14)\n",
        "plt.ylabel('Residuals', fontsize=14)\n",
        "plt.show()"
      ],
      "execution_count": 17,
      "outputs": [
        {
          "output_type": "display_data",
          "data": {
            "image/png": "[encoded data removed]",
            "text/plain": [
              "<Figure size 600x400 with 1 Axes>"
            ]
          },
          "metadata": {
            "needs_background": "light"
          }
        },
        {
          "output_type": "display_data",
          "data": {
            "image/png": "[encoded data removed]",
            "text/plain": [
              "<Figure size 600x400 with 1 Axes>"
            ]
          },
          "metadata": {
            "needs_background": "light"
          }
        }
      ]
    },
    {
      "cell_type": "code",
      "metadata": {
        "id": "m_diDXSXotm6"
      },
      "source": [
        ""
      ],
      "execution_count": null,
      "outputs": []
    },
    {
      "cell_type": "code",
      "metadata": {
        "id": "6DfAEUWNosHd"
      },
      "source": [
        ""
      ],
      "execution_count": null,
      "outputs": []
    },
    {
      "cell_type": "markdown",
      "metadata": {
        "id": "zNBuJ1iBnvpl"
      },
      "source": [
        "# Multivariable Regression\n",
        "\n",
        "Now use both years of schooling and the years work experience to predict earnings. How high is the r-squared for the regression on the training data? "
      ]
    },
    {
      "cell_type": "code",
      "metadata": {
        "id": "Ihq-C4looCSM",
        "colab": {
          "base_uri": "https://localhost:8080/"
        },
        "outputId": "1321a254-3efc-461a-c448-5936aaf861bf"
      },
      "source": [
        "regr = LinearRegression()\n",
        "regr.fit(X_train[['EXP', 'BYEAR']], y_train)\n",
        "rsquared = regr.score(X_train[['EXP', 'BYEAR']], y_train)\n",
        "rsquared\n"
      ],
      "execution_count": 33,
      "outputs": [
        {
          "output_type": "execute_result",
          "data": {
            "text/plain": [
              "0.005551935707030609"
            ]
          },
          "metadata": {},
          "execution_count": 33
        }
      ]
    },
    {
      "cell_type": "code",
      "metadata": {
        "id": "dRhB7Iwboyfq"
      },
      "source": [
        ""
      ],
      "execution_count": null,
      "outputs": []
    },
    {
      "cell_type": "markdown",
      "metadata": {
        "id": "nHDtunM0oyuk"
      },
      "source": [
        "### Evaluate the Coefficients of the Model"
      ]
    },
    {
      "cell_type": "code",
      "metadata": {
        "id": "5vasqInIoydB",
        "colab": {
          "base_uri": "https://localhost:8080/",
          "height": 894
        },
        "outputId": "b80a183f-a8b0-4dd4-93ee-6a87e61810b6"
      },
      "source": [
        "df_data['Mean_ASVAB'] = df_data[['ASVABAR','ASVABMK', 'ASVABC4','ASVABC','ASVABMV', 'ASVABNO', 'VERBAL', 'ASVABPC', 'ASVABWK']].mean(axis=1)\n",
        "# LOOKING FOR VARIABLES WITH CORRELATIONS WITH EARNINGS\n",
        "# db.dropna(inplace=True)\n",
        "potential_corr = abs(df_data.corr()['EARNINGS'])\n",
        "print(potential_corr.sort_values(ascending=False).head(30))\n",
        "sns.heatmap(df_data.corr())\n",
        "plt.show()"
      ],
      "execution_count": 21,
      "outputs": [
        {
          "output_type": "stream",
          "name": "stdout",
          "text": [
            "EARNINGS     1.00\n",
            "S            0.28\n",
            "ASVABMK      0.27\n",
            "ASVABNO      0.25\n",
            "ASVABAR      0.24\n",
            "ASVABC4      0.24\n",
            "ASVABC       0.22\n",
            "Mean_ASVAB   0.22\n",
            "ASVABMV      0.22\n",
            "SF           0.22\n",
            "SFR          0.22\n",
            "HHINC97      0.21\n",
            "SMR          0.20\n",
            "ASVABPC      0.20\n",
            "SM           0.20\n",
            "POVRAT97     0.19\n",
            "EDUCMAST     0.18\n",
            "EDUCHSD      0.18\n",
            "VERBAL       0.17\n",
            "ASVABCS      0.17\n",
            "TENURE       0.17\n",
            "COLLBARG     0.16\n",
            "EDUCPROF     0.16\n",
            "MSA97NO      0.15\n",
            "EDUCGED      0.14\n",
            "EDUCBA       0.14\n",
            "HHBMBF       0.13\n",
            "MARRIED      0.12\n",
            "REGS         0.12\n",
            "ASVABWK      0.12\n",
            "Name: EARNINGS, dtype: float64\n"
          ]
        },
        {
          "output_type": "display_data",
          "data": {
            "image/png": "[encoded data removed]",
            "text/plain": [
              "<Figure size 432x288 with 2 Axes>"
            ]
          },
          "metadata": {
            "needs_background": "light"
          }
        }
      ]
    },
    {
      "cell_type": "code",
      "source": [
        "# SEARCHING FOR CORRELATIONS:\n",
        "from scipy.stats import pearsonr\n",
        "from scipy.stats import spearmanr\n",
        "from scipy.stats import kendalltau\n",
        "corr_db = pd.DataFrame(columns=['Variable', 'Pearson', 'Spearman', 'Kendalltau'])\n",
        "linear_correlations1 = []\n",
        "nonlinear_correlations2 = []\n",
        "nonlinear_correlations3 = []\n",
        "for c in df_data.columns:\n",
        "    corr1, _ = pearsonr(df_data['EARNINGS'], df_data[c])\n",
        "    corr2, _ = spearmanr(df_data['EARNINGS'], df_data[c])\n",
        "    corr3, _ = kendalltau(df_data['EARNINGS'], df_data[c])\n",
        "    linear_correlations1.append(corr1)\n",
        "    nonlinear_correlations2.append(corr2)\n",
        "    nonlinear_correlations3.append(corr3)\n",
        "corr_db['Variable'] = df_data.columns\n",
        "corr_db['Pearson'] = linear_correlations1\n",
        "corr_db['Spearman'] = nonlinear_correlations2\n",
        "corr_db['Kendalltau'] = nonlinear_correlations3\n",
        "corr_db.dropna(inplace=True)\n",
        "print(corr_db.sort_values('Pearson').tail(20))\n"
      ],
      "metadata": {
        "colab": {
          "base_uri": "https://localhost:8080/"
        },
        "id": "soT7urBUF6fQ",
        "outputId": "a2335901-867c-497c-a623-781d49963925"
      },
      "execution_count": 40,
      "outputs": [
        {
          "output_type": "stream",
          "name": "stderr",
          "text": [
            "/usr/local/lib/python3.7/dist-packages/scipy/stats/stats.py:3508: PearsonRConstantInputWarning: An input array is constant; the correlation coefficent is not defined.\n",
            "  warnings.warn(PearsonRConstantInputWarning())\n",
            "/usr/local/lib/python3.7/dist-packages/numpy/lib/function_base.py:2559: RuntimeWarning: invalid value encountered in true_divide\n",
            "  c /= stddev[:, None]\n",
            "/usr/local/lib/python3.7/dist-packages/numpy/lib/function_base.py:2560: RuntimeWarning: invalid value encountered in true_divide\n",
            "  c /= stddev[None, :]\n"
          ]
        },
        {
          "output_type": "stream",
          "name": "stdout",
          "text": [
            "      Variable  Pearson  Spearman  Kendalltau\n",
            "79      TENURE     0.17      0.29        0.20\n",
            "57     ASVABCS     0.17      0.26        0.17\n",
            "60      VERBAL     0.17      0.22        0.15\n",
            "26    EDUCMAST     0.18      0.22        0.18\n",
            "10    POVRAT97     0.19      0.28        0.19\n",
            "66          SM     0.20      0.23        0.17\n",
            "54     ASVABPC     0.20      0.23        0.15\n",
            "68         SMR     0.20      0.24        0.18\n",
            "9      HHINC97     0.21      0.30        0.20\n",
            "67         SFR     0.22      0.28        0.20\n",
            "65          SF     0.22      0.28        0.20\n",
            "61     ASVABMV     0.22      0.27        0.18\n",
            "96  Mean_ASVAB     0.22      0.27        0.18\n",
            "58      ASVABC     0.22      0.26        0.17\n",
            "59     ASVABC4     0.24      0.29        0.20\n",
            "52     ASVABAR     0.24      0.26        0.18\n",
            "56     ASVABNO     0.25      0.28        0.19\n",
            "55     ASVABMK     0.27      0.34        0.23\n",
            "2            S     0.28      0.38        0.27\n",
            "1     EARNINGS     1.00      1.00        1.00\n"
          ]
        }
      ]
    },
    {
      "cell_type": "markdown",
      "metadata": {
        "id": "Yv8q90IYou2Q"
      },
      "source": [
        "### Analyse the Estimated Values & Regression Residuals"
      ]
    },
    {
      "cell_type": "code",
      "metadata": {
        "id": "8NmXnsxfowkI",
        "colab": {
          "base_uri": "https://localhost:8080/"
        },
        "outputId": "bf90fcb6-2551-4c66-b073-ab50fa1016f2"
      },
      "source": [
        "regression = LinearRegression()\n",
        "X = df_data[['S', 'ASVABMK', 'HHINC97', 'POVRAT97', 'EDUCMAST', 'SF', 'SMR']]\n",
        "Y = df_data['EARNINGS']\n",
        "regression.fit(X, y=Y)\n",
        "print(f'Regression score using data: {round(regression.score(X, Y), 3)}')\n",
        "X_train, X_test, Y_train, Y_test = train_test_split(X, Y, test_size=0.2)\n",
        "model = LinearRegression().fit(X_train, Y_train)\n",
        "print(f'Model interception (x=0): {model.intercept_}')\n",
        "print(f\"Model coefficients per variables ('S', 'ASVABMK', 'HHINC97', 'POVRAT97', 'EDUCPROF', 'SF', 'SMR'): {model.coef_}\")\n",
        "print(f'Model regression score using train values: {round(model.score(X_train, Y_train),3)}')\n",
        "print(f'Model regression score using test values: {round(model.score(X_test, Y_test),3)}')\n"
      ],
      "execution_count": 41,
      "outputs": [
        {
          "output_type": "stream",
          "name": "stdout",
          "text": [
            "Regression score using data: 0.127\n",
            "Model interception (x=0): 1.3924504472033625\n",
            "Model coefficients per variables ('S', 'ASVABMK', 'HHINC97', 'POVRAT97', 'EDUCPROF', 'SF', 'SMR'): [ 7.88718350e-01  1.31797613e+00  7.58774829e-05 -6.42933880e-03\n",
            "  2.94775324e+00  1.61424133e-01  8.91360259e-03]\n",
            "Model regression score using train values: 0.178\n",
            "Model regression score using test values: -0.015\n"
          ]
        }
      ]
    },
    {
      "cell_type": "code",
      "metadata": {
        "id": "0ZZ1e0spo5o1"
      },
      "source": [
        ""
      ],
      "execution_count": null,
      "outputs": []
    },
    {
      "cell_type": "markdown",
      "metadata": {
        "id": "YWNeoqPLpjVb"
      },
      "source": [
        "# Use Your Model to Make a Prediction\n",
        "\n",
        "How much can someone with a bachelors degree (12 + 4) years of schooling and 5 years work experience expect to earn in 2011?"
      ]
    },
    {
      "cell_type": "code",
      "metadata": {
        "id": "Mof-14lCpv60",
        "colab": {
          "base_uri": "https://localhost:8080/",
          "height": 388
        },
        "outputId": "46750518-7b74-4bcb-8b5f-ca140154a95f"
      },
      "source": [
        "prediction = model.predict(X_test)\n",
        "plt.figure(figsize=(6,6))\n",
        "plt.scatter(Y_test, prediction, c='crimson')\n",
        "p1 = max(max(prediction), max(Y_test))\n",
        "p2 = min(min(prediction), min(Y_test))\n",
        "plt.plot([p1, p2], [p1, p2], 'b-')\n",
        "plt.xlabel('True Values', fontsize=10)\n",
        "plt.ylabel('Predictions', fontsize=10)\n",
        "plt.axis('equal')\n",
        "plt.show()\n"
      ],
      "execution_count": 42,
      "outputs": [
        {
          "output_type": "display_data",
          "data": {
            "image/png": "[encoded data removed]",
            "text/plain": [
              "<Figure size 432x432 with 1 Axes>"
            ]
          },
          "metadata": {
            "needs_background": "light"
          }
        }
      ]
    },
    {
      "cell_type": "code",
      "metadata": {
        "id": "3htX8_SBpvyb"
      },
      "source": [
        ""
      ],
      "execution_count": null,
      "outputs": []
    },
    {
      "cell_type": "markdown",
      "metadata": {
        "id": "TIYI-eQepDSQ"
      },
      "source": [
        "# Experiment and Investigate Further\n",
        "\n",
        "Which other features could you consider adding to further improve the regression to better predict earnings? "
      ]
    },
    {
      "cell_type": "code",
      "metadata": {
        "id": "sd07-pKopJgo",
        "colab": {
          "base_uri": "https://localhost:8080/",
          "height": 368
        },
        "outputId": "5c0abc4e-a094-4cf8-8d6e-cf7e41631deb"
      },
      "source": [
        "# CREATING A MULTIVARIABLE MODEL USING RANDOM FOREST REGRESSION\n",
        "# The following potential variables were identified: 'S', 'ASVABMK', 'HHINC97', 'POVRAT97', 'EDUCPROF', 'SF', 'SMR'\n",
        "from sklearn.ensemble import RandomForestRegressor\n",
        "VARIABLES = ['S', 'ASVABMK', 'HHINC97', 'POVRAT97', 'EDUCPROF', 'SF', 'SMR']\n",
        "X = df_data[VARIABLES]\n",
        "Y = df_data['EARNINGS']\n",
        "X_train, X_test, Y_train, Y_test = train_test_split(X, Y, test_size=0.2)\n",
        "rfr = RandomForestRegressor()\n",
        "model = rfr.fit(X_train, Y_train)\n",
        "print(rfr.score(X_train, Y_train))\n",
        "Y_pred = rfr.predict(X_test)\n",
        "print(model.feature_names_in_)\n",
        "print(model.feature_importances_)\n",
        "x_ax = range(len(Y_test))\n",
        "plt.plot(x_ax, Y_test, linewidth=1, label=\"original\")\n",
        "plt.plot(x_ax, Y_pred, linewidth=1.1, label=\"predicted\")\n",
        "plt.title(\"y-test and y-predicted data\")\n",
        "plt.xlabel('X-axis')\n",
        "plt.ylabel('Y-axis')\n",
        "plt.legend(loc='best',fancybox=True, shadow=True)\n",
        "plt.grid(True)\n",
        "plt.show()"
      ],
      "execution_count": 45,
      "outputs": [
        {
          "output_type": "stream",
          "name": "stdout",
          "text": [
            "0.846963851276874\n",
            "['S' 'ASVABMK' 'HHINC97' 'POVRAT97' 'EDUCPROF' 'SF' 'SMR']\n",
            "[0.13150409 0.29865221 0.1926934  0.15868613 0.02473516 0.13130263\n",
            " 0.06242638]\n"
          ]
        },
        {
          "output_type": "display_data",
          "data": {
            "image/png": "[encoded data removed]",
            "text/plain": [
              "<Figure size 432x288 with 1 Axes>"
            ]
          },
          "metadata": {
            "needs_background": "light"
          }
        }
      ]
    },
    {
      "cell_type": "code",
      "metadata": {
        "id": "Fohe2-Rdp1MO"
      },
      "source": [
        ""
      ],
      "execution_count": null,
      "outputs": []
    }
  ]
}